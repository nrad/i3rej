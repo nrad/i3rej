{
 "cells": [
  {
   "cell_type": "code",
   "execution_count": 1,
   "id": "57bf1820",
   "metadata": {},
   "outputs": [
    {
     "name": "stdout",
     "output_type": "stream",
     "text": [
      "Python warnings have been suppressed\n"
     ]
    },
    {
     "name": "stderr",
     "output_type": "stream",
     "text": [
      "2025-10-20 11:07:37,097 - tfxkit.core.model_builder - INFO - Defining model with: define_muemb_model and args: {'event_branch_layers': [64, 64], 'muon_branch_layers': [512], 'combination_layers': [64, 64], 'muon_embedding_dim': 16, 'hidden_activation': 'relu', 'dropout': 0.7, 'dropout_muon': None, 'dropout_event': None, 'kernel_regularizer': 0.0001, 'aggregation_method': 'simple3', 'batch_size': None, 'n_features': 101, 'n_labels': 1, 'features': ['log_z', 'log_rho', 'log_length', 'log_energy', 'interaction_height', 'cos_zenith', 'pdg_map', 'log_energy_per_nucleon', 'depth', 'multiplicity', 'mu_radius_mean', 'mu_radius_std', 'mu_radius_min', 'mu_radius_max', 'mu_log_energy_mean', 'mu_log_energy_std', 'mu_log_energy_min', 'mu_log_energy_max', 'mu1_radius', 'mu2_radius', 'mu3_radius', 'mu4_radius', 'mu5_radius', 'mu6_radius', 'mu7_radius', 'mu8_radius', 'mu9_radius', 'mu10_radius', 'mu1_log_energy', 'mu2_log_energy', 'mu3_log_energy', 'mu4_log_energy', 'mu5_log_energy', 'mu6_log_energy', 'mu7_log_energy', 'mu8_log_energy', 'mu9_log_energy', 'mu10_log_energy', 'singleness', 'mu_leading_energy_fraction', 'mu_bundle_log_energy', 'mu1_pos_x', 'mu1_pos_y', 'mu1_pos_z', 'mu1_dir_x', 'mu1_dir_y', 'mu1_dir_z', 'mu2_pos_x', 'mu2_pos_y', 'mu2_pos_z', 'mu2_dir_x', 'mu2_dir_y', 'mu2_dir_z', 'mu3_pos_x', 'mu3_pos_y', 'mu3_pos_z', 'mu3_dir_x', 'mu3_dir_y', 'mu3_dir_z', 'mu4_pos_x', 'mu4_pos_y', 'mu4_pos_z', 'mu4_dir_x', 'mu4_dir_y', 'mu4_dir_z', 'mu5_pos_x', 'mu5_pos_y', 'mu5_pos_z', 'mu5_dir_x', 'mu5_dir_y', 'mu5_dir_z', 'mu6_pos_x', 'mu6_pos_y', 'mu6_pos_z', 'mu6_dir_x', 'mu6_dir_y', 'mu6_dir_z', 'mu7_pos_x', 'mu7_pos_y', 'mu7_pos_z', 'mu7_dir_x', 'mu7_dir_y', 'mu7_dir_z', 'mu8_pos_x', 'mu8_pos_y', 'mu8_pos_z', 'mu8_dir_x', 'mu8_dir_y', 'mu8_dir_z', 'mu9_pos_x', 'mu9_pos_y', 'mu9_pos_z', 'mu9_dir_x', 'mu9_dir_y', 'mu9_dir_z', 'mu10_pos_x', 'mu10_pos_y', 'mu10_pos_z', 'mu10_dir_x', 'mu10_dir_y', 'mu10_dir_z']}\n",
      "2025-10-20 11:07:37,098 - tfxkit.common.tf_utils - INFO - layers_list: [64, 64]\n",
      "2025-10-20 11:07:37,130 - tfxkit.common.tf_utils - INFO - layers_list: [512]\n"
     ]
    },
    {
     "name": "stdout",
     "output_type": "stream",
     "text": [
      "tfxkit.__version__ = '0.0.7'\n",
      "n_event_features=21, \n",
      "muon_features=['mu1_radius', 'mu2_radius', 'mu3_radius', 'mu4_radius', 'mu5_radius', 'mu6_radius', 'mu7_radius', 'mu8_radius', 'mu9_radius', 'mu10_radius', 'mu1_log_energy', 'mu2_log_energy', 'mu3_log_energy', 'mu4_log_energy', 'mu5_log_energy', 'mu6_log_energy', 'mu7_log_energy', 'mu8_log_energy', 'mu9_log_energy', 'mu10_log_energy', 'mu1_pos_x', 'mu1_pos_y', 'mu1_pos_z', 'mu1_dir_x', 'mu1_dir_y', 'mu1_dir_z', 'mu2_pos_x', 'mu2_pos_y', 'mu2_pos_z', 'mu2_dir_x', 'mu2_dir_y', 'mu2_dir_z', 'mu3_pos_x', 'mu3_pos_y', 'mu3_pos_z', 'mu3_dir_x', 'mu3_dir_y', 'mu3_dir_z', 'mu4_pos_x', 'mu4_pos_y', 'mu4_pos_z', 'mu4_dir_x', 'mu4_dir_y', 'mu4_dir_z', 'mu5_pos_x', 'mu5_pos_y', 'mu5_pos_z', 'mu5_dir_x', 'mu5_dir_y', 'mu5_dir_z', 'mu6_pos_x', 'mu6_pos_y', 'mu6_pos_z', 'mu6_dir_x', 'mu6_dir_y', 'mu6_dir_z', 'mu7_pos_x', 'mu7_pos_y', 'mu7_pos_z', 'mu7_dir_x', 'mu7_dir_y', 'mu7_dir_z', 'mu8_pos_x', 'mu8_pos_y', 'mu8_pos_z', 'mu8_dir_x', 'mu8_dir_y', 'mu8_dir_z', 'mu9_pos_x', 'mu9_pos_y', 'mu9_pos_z', 'mu9_dir_x', 'mu9_dir_y', 'mu9_dir_z', 'mu10_pos_x', 'mu10_pos_y', 'mu10_pos_z', 'mu10_dir_x', 'mu10_dir_y', 'mu10_dir_z'] \n",
      "features=['log_z', 'log_rho', 'log_length', 'log_energy', 'interaction_height', 'cos_zenith', 'pdg_map', 'log_energy_per_nucleon', 'depth', 'multiplicity', 'mu_radius_mean', 'mu_radius_std', 'mu_radius_min', 'mu_radius_max', 'mu_log_energy_mean', 'mu_log_energy_std', 'mu_log_energy_min', 'mu_log_energy_max', 'mu1_radius', 'mu2_radius', 'mu3_radius', 'mu4_radius', 'mu5_radius', 'mu6_radius', 'mu7_radius', 'mu8_radius', 'mu9_radius', 'mu10_radius', 'mu1_log_energy', 'mu2_log_energy', 'mu3_log_energy', 'mu4_log_energy', 'mu5_log_energy', 'mu6_log_energy', 'mu7_log_energy', 'mu8_log_energy', 'mu9_log_energy', 'mu10_log_energy', 'singleness', 'mu_leading_energy_fraction', 'mu_bundle_log_energy', 'mu1_pos_x', 'mu1_pos_y', 'mu1_pos_z', 'mu1_dir_x', 'mu1_dir_y', 'mu1_dir_z', 'mu2_pos_x', 'mu2_pos_y', 'mu2_pos_z', 'mu2_dir_x', 'mu2_dir_y', 'mu2_dir_z', 'mu3_pos_x', 'mu3_pos_y', 'mu3_pos_z', 'mu3_dir_x', 'mu3_dir_y', 'mu3_dir_z', 'mu4_pos_x', 'mu4_pos_y', 'mu4_pos_z', 'mu4_dir_x', 'mu4_dir_y', 'mu4_dir_z', 'mu5_pos_x', 'mu5_pos_y', 'mu5_pos_z', 'mu5_dir_x', 'mu5_dir_y', 'mu5_dir_z', 'mu6_pos_x', 'mu6_pos_y', 'mu6_pos_z', 'mu6_dir_x', 'mu6_dir_y', 'mu6_dir_z', 'mu7_pos_x', 'mu7_pos_y', 'mu7_pos_z', 'mu7_dir_x', 'mu7_dir_y', 'mu7_dir_z', 'mu8_pos_x', 'mu8_pos_y', 'mu8_pos_z', 'mu8_dir_x', 'mu8_dir_y', 'mu8_dir_z', 'mu9_pos_x', 'mu9_pos_y', 'mu9_pos_z', 'mu9_dir_x', 'mu9_dir_y', 'mu9_dir_z', 'mu10_pos_x', 'mu10_pos_y', 'mu10_pos_z', 'mu10_dir_x', 'mu10_dir_y', 'mu10_dir_z']\n",
      "{'layers_list': [512], 'dropout': 0.7, 'kernel_regularizer': 0.0001, 'aggregation_method': 'simple3', 'batch_size': None}\n",
      "event_branch_kwargs = {'layers_list': [64, 64], 'dropout': 0.7, 'kernel_regularizer': 0.0001}\n",
      "[0.7, None]\n",
      "muon_branch_kwargs = {'layers_list': [512], 'dropout': 0.7, 'kernel_regularizer': 0.0001, 'aggregation_method': 'simple3', 'batch_size': None}\n",
      "[0.7]\n"
     ]
    },
    {
     "data": {
      "text/html": [
       "<pre style=\"white-space:pre;overflow-x:auto;line-height:normal;font-family:Menlo,'DejaVu Sans Mono',consolas,'Courier New',monospace\"><span style=\"font-weight: bold\">Model: \"MuonEmbedding\"</span>\n",
       "</pre>\n"
      ],
      "text/plain": [
       "\u001b[1mModel: \"MuonEmbedding\"\u001b[0m\n"
      ]
     },
     "metadata": {},
     "output_type": "display_data"
    },
    {
     "data": {
      "text/html": [
       "<pre style=\"white-space:pre;overflow-x:auto;line-height:normal;font-family:Menlo,'DejaVu Sans Mono',consolas,'Courier New',monospace\">┏━━━━━━━━━━━━━━━━━━━━━━━━━━━━━━━━━┳━━━━━━━━━━━━━━━━━━━━━━━━┳━━━━━━━━━━━━━━━┓\n",
       "┃<span style=\"font-weight: bold\"> Layer (type)                    </span>┃<span style=\"font-weight: bold\"> Output Shape           </span>┃<span style=\"font-weight: bold\">       Param # </span>┃\n",
       "┡━━━━━━━━━━━━━━━━━━━━━━━━━━━━━━━━━╇━━━━━━━━━━━━━━━━━━━━━━━━╇━━━━━━━━━━━━━━━┩\n",
       "│ BatchNorm_Input                 │ (<span style=\"color: #00d7ff; text-decoration-color: #00d7ff\">None</span>, <span style=\"color: #00af00; text-decoration-color: #00af00\">8</span>)              │            <span style=\"color: #00af00; text-decoration-color: #00af00\">32</span> │\n",
       "│ (<span style=\"color: #0087ff; text-decoration-color: #0087ff\">BatchNormalization</span>)            │                        │               │\n",
       "├─────────────────────────────────┼────────────────────────┼───────────────┤\n",
       "│ Dense_0_512_relu (<span style=\"color: #0087ff; text-decoration-color: #0087ff\">Dense</span>)        │ (<span style=\"color: #00d7ff; text-decoration-color: #00d7ff\">None</span>, <span style=\"color: #00af00; text-decoration-color: #00af00\">512</span>)            │         <span style=\"color: #00af00; text-decoration-color: #00af00\">4,608</span> │\n",
       "├─────────────────────────────────┼────────────────────────┼───────────────┤\n",
       "│ BatchNorm_0                     │ (<span style=\"color: #00d7ff; text-decoration-color: #00d7ff\">None</span>, <span style=\"color: #00af00; text-decoration-color: #00af00\">512</span>)            │         <span style=\"color: #00af00; text-decoration-color: #00af00\">2,048</span> │\n",
       "│ (<span style=\"color: #0087ff; text-decoration-color: #0087ff\">BatchNormalization</span>)            │                        │               │\n",
       "├─────────────────────────────────┼────────────────────────┼───────────────┤\n",
       "│ Dropout_0_0.7 (<span style=\"color: #0087ff; text-decoration-color: #0087ff\">Dropout</span>)         │ (<span style=\"color: #00d7ff; text-decoration-color: #00d7ff\">None</span>, <span style=\"color: #00af00; text-decoration-color: #00af00\">512</span>)            │             <span style=\"color: #00af00; text-decoration-color: #00af00\">0</span> │\n",
       "├─────────────────────────────────┼────────────────────────┼───────────────┤\n",
       "│ Output_Layer_sigmoid (<span style=\"color: #0087ff; text-decoration-color: #0087ff\">Dense</span>)    │ (<span style=\"color: #00d7ff; text-decoration-color: #00d7ff\">None</span>, <span style=\"color: #00af00; text-decoration-color: #00af00\">16</span>)             │         <span style=\"color: #00af00; text-decoration-color: #00af00\">8,208</span> │\n",
       "└─────────────────────────────────┴────────────────────────┴───────────────┘\n",
       "</pre>\n"
      ],
      "text/plain": [
       "┏━━━━━━━━━━━━━━━━━━━━━━━━━━━━━━━━━┳━━━━━━━━━━━━━━━━━━━━━━━━┳━━━━━━━━━━━━━━━┓\n",
       "┃\u001b[1m \u001b[0m\u001b[1mLayer (type)                   \u001b[0m\u001b[1m \u001b[0m┃\u001b[1m \u001b[0m\u001b[1mOutput Shape          \u001b[0m\u001b[1m \u001b[0m┃\u001b[1m \u001b[0m\u001b[1m      Param #\u001b[0m\u001b[1m \u001b[0m┃\n",
       "┡━━━━━━━━━━━━━━━━━━━━━━━━━━━━━━━━━╇━━━━━━━━━━━━━━━━━━━━━━━━╇━━━━━━━━━━━━━━━┩\n",
       "│ BatchNorm_Input                 │ (\u001b[38;5;45mNone\u001b[0m, \u001b[38;5;34m8\u001b[0m)              │            \u001b[38;5;34m32\u001b[0m │\n",
       "│ (\u001b[38;5;33mBatchNormalization\u001b[0m)            │                        │               │\n",
       "├─────────────────────────────────┼────────────────────────┼───────────────┤\n",
       "│ Dense_0_512_relu (\u001b[38;5;33mDense\u001b[0m)        │ (\u001b[38;5;45mNone\u001b[0m, \u001b[38;5;34m512\u001b[0m)            │         \u001b[38;5;34m4,608\u001b[0m │\n",
       "├─────────────────────────────────┼────────────────────────┼───────────────┤\n",
       "│ BatchNorm_0                     │ (\u001b[38;5;45mNone\u001b[0m, \u001b[38;5;34m512\u001b[0m)            │         \u001b[38;5;34m2,048\u001b[0m │\n",
       "│ (\u001b[38;5;33mBatchNormalization\u001b[0m)            │                        │               │\n",
       "├─────────────────────────────────┼────────────────────────┼───────────────┤\n",
       "│ Dropout_0_0.7 (\u001b[38;5;33mDropout\u001b[0m)         │ (\u001b[38;5;45mNone\u001b[0m, \u001b[38;5;34m512\u001b[0m)            │             \u001b[38;5;34m0\u001b[0m │\n",
       "├─────────────────────────────────┼────────────────────────┼───────────────┤\n",
       "│ Output_Layer_sigmoid (\u001b[38;5;33mDense\u001b[0m)    │ (\u001b[38;5;45mNone\u001b[0m, \u001b[38;5;34m16\u001b[0m)             │         \u001b[38;5;34m8,208\u001b[0m │\n",
       "└─────────────────────────────────┴────────────────────────┴───────────────┘\n"
      ]
     },
     "metadata": {},
     "output_type": "display_data"
    },
    {
     "data": {
      "text/html": [
       "<pre style=\"white-space:pre;overflow-x:auto;line-height:normal;font-family:Menlo,'DejaVu Sans Mono',consolas,'Courier New',monospace\"><span style=\"font-weight: bold\"> Total params: </span><span style=\"color: #00af00; text-decoration-color: #00af00\">14,896</span> (58.19 KB)\n",
       "</pre>\n"
      ],
      "text/plain": [
       "\u001b[1m Total params: \u001b[0m\u001b[38;5;34m14,896\u001b[0m (58.19 KB)\n"
      ]
     },
     "metadata": {},
     "output_type": "display_data"
    },
    {
     "data": {
      "text/html": [
       "<pre style=\"white-space:pre;overflow-x:auto;line-height:normal;font-family:Menlo,'DejaVu Sans Mono',consolas,'Courier New',monospace\"><span style=\"font-weight: bold\"> Trainable params: </span><span style=\"color: #00af00; text-decoration-color: #00af00\">13,856</span> (54.12 KB)\n",
       "</pre>\n"
      ],
      "text/plain": [
       "\u001b[1m Trainable params: \u001b[0m\u001b[38;5;34m13,856\u001b[0m (54.12 KB)\n"
      ]
     },
     "metadata": {},
     "output_type": "display_data"
    },
    {
     "data": {
      "text/html": [
       "<pre style=\"white-space:pre;overflow-x:auto;line-height:normal;font-family:Menlo,'DejaVu Sans Mono',consolas,'Courier New',monospace\"><span style=\"font-weight: bold\"> Non-trainable params: </span><span style=\"color: #00af00; text-decoration-color: #00af00\">1,040</span> (4.06 KB)\n",
       "</pre>\n"
      ],
      "text/plain": [
       "\u001b[1m Non-trainable params: \u001b[0m\u001b[38;5;34m1,040\u001b[0m (4.06 KB)\n"
      ]
     },
     "metadata": {},
     "output_type": "display_data"
    },
    {
     "name": "stdout",
     "output_type": "stream",
     "text": [
      "<Sequential name=MuonEmbedding, built=True>\n",
      "<class 'keras.src.models.sequential.Sequential'>\n"
     ]
    },
    {
     "data": {
      "text/html": [
       "<pre style=\"white-space:pre;overflow-x:auto;line-height:normal;font-family:Menlo,'DejaVu Sans Mono',consolas,'Courier New',monospace\"><span style=\"font-weight: bold\">Model: \"CombinedModel\"</span>\n",
       "</pre>\n"
      ],
      "text/plain": [
       "\u001b[1mModel: \"CombinedModel\"\u001b[0m\n"
      ]
     },
     "metadata": {},
     "output_type": "display_data"
    },
    {
     "data": {
      "text/html": [
       "<pre style=\"white-space:pre;overflow-x:auto;line-height:normal;font-family:Menlo,'DejaVu Sans Mono',consolas,'Courier New',monospace\">┏━━━━━━━━━━━━━━━━━━━━━━━━━━━━━━━━━━━━━━┳━━━━━━━━━━━━━━━━━━━━━━━━━━━━━━━━┳━━━━━━━━━━━━━━━━━━━━━━┳━━━━━━━━━━━━━━━━━━━\n",
       "┃<span style=\"font-weight: bold\"> Layer (type)                         </span>┃<span style=\"font-weight: bold\"> Output Shape                   </span>┃<span style=\"font-weight: bold\">              Param # </span>┃<span style=\"font-weight: bold\"> Connected to      </span>\n",
       "┡━━━━━━━━━━━━━━━━━━━━━━━━━━━━━━━━━━━━━━╇━━━━━━━━━━━━━━━━━━━━━━━━━━━━━━━━╇━━━━━━━━━━━━━━━━━━━━━━╇━━━━━━━━━━━━━━━━━━━\n",
       "│ muon_input (<span style=\"color: #0087ff; text-decoration-color: #0087ff\">InputLayer</span>)              │ (<span style=\"color: #00d7ff; text-decoration-color: #00d7ff\">None</span>, <span style=\"color: #00af00; text-decoration-color: #00af00\">10</span>, <span style=\"color: #00af00; text-decoration-color: #00af00\">8</span>)                  │                    <span style=\"color: #00af00; text-decoration-color: #00af00\">0</span> │ -                 \n",
       "├──────────────────────────────────────┼────────────────────────────────┼──────────────────────┼───────────────────\n",
       "│ event_input (<span style=\"color: #0087ff; text-decoration-color: #0087ff\">InputLayer</span>)             │ (<span style=\"color: #00d7ff; text-decoration-color: #00d7ff\">None</span>, <span style=\"color: #00af00; text-decoration-color: #00af00\">21</span>)                     │                    <span style=\"color: #00af00; text-decoration-color: #00af00\">0</span> │ -                 \n",
       "├──────────────────────────────────────┼────────────────────────────────┼──────────────────────┼───────────────────\n",
       "│ time_distributed (<span style=\"color: #0087ff; text-decoration-color: #0087ff\">TimeDistributed</span>)   │ (<span style=\"color: #00d7ff; text-decoration-color: #00d7ff\">None</span>, <span style=\"color: #00af00; text-decoration-color: #00af00\">10</span>, <span style=\"color: #00af00; text-decoration-color: #00af00\">16</span>)                 │               <span style=\"color: #00af00; text-decoration-color: #00af00\">14,896</span> │ muon_input[<span style=\"color: #00af00; text-decoration-color: #00af00\">0</span>][<span style=\"color: #00af00; text-decoration-color: #00af00\">0</span>]  \n",
       "├──────────────────────────────────────┼────────────────────────────────┼──────────────────────┼───────────────────\n",
       "│ EventMLP (<span style=\"color: #0087ff; text-decoration-color: #0087ff\">Sequential</span>)                │ (<span style=\"color: #00d7ff; text-decoration-color: #00d7ff\">None</span>, <span style=\"color: #00af00; text-decoration-color: #00af00\">64</span>)                     │               <span style=\"color: #00af00; text-decoration-color: #00af00\">10,324</span> │ event_input[<span style=\"color: #00af00; text-decoration-color: #00af00\">0</span>][<span style=\"color: #00af00; text-decoration-color: #00af00\">0</span>] \n",
       "├──────────────────────────────────────┼────────────────────────────────┼──────────────────────┼───────────────────\n",
       "│    └ BatchNorm_Input                 │ (<span style=\"color: #00d7ff; text-decoration-color: #00d7ff\">None</span>, <span style=\"color: #00af00; text-decoration-color: #00af00\">21</span>)                     │                   <span style=\"color: #00af00; text-decoration-color: #00af00\">84</span> │ -                 \n",
       "│ (<span style=\"color: #0087ff; text-decoration-color: #0087ff\">BatchNormalization</span>)                 │                                │                      │                   \n",
       "├──────────────────────────────────────┼────────────────────────────────┼──────────────────────┼───────────────────\n",
       "│    └ Dense_0_64_relu (<span style=\"color: #0087ff; text-decoration-color: #0087ff\">Dense</span>)         │ (<span style=\"color: #00d7ff; text-decoration-color: #00d7ff\">None</span>, <span style=\"color: #00af00; text-decoration-color: #00af00\">64</span>)                     │                <span style=\"color: #00af00; text-decoration-color: #00af00\">1,408</span> │ -                 \n",
       "├──────────────────────────────────────┼────────────────────────────────┼──────────────────────┼───────────────────\n",
       "│    └ BatchNorm_0                     │ (<span style=\"color: #00d7ff; text-decoration-color: #00d7ff\">None</span>, <span style=\"color: #00af00; text-decoration-color: #00af00\">64</span>)                     │                  <span style=\"color: #00af00; text-decoration-color: #00af00\">256</span> │ -                 \n",
       "│ (<span style=\"color: #0087ff; text-decoration-color: #0087ff\">BatchNormalization</span>)                 │                                │                      │                   \n",
       "├──────────────────────────────────────┼────────────────────────────────┼──────────────────────┼───────────────────\n",
       "│    └ Dropout_0_0.7 (<span style=\"color: #0087ff; text-decoration-color: #0087ff\">Dropout</span>)         │ (<span style=\"color: #00d7ff; text-decoration-color: #00d7ff\">None</span>, <span style=\"color: #00af00; text-decoration-color: #00af00\">64</span>)                     │                    <span style=\"color: #00af00; text-decoration-color: #00af00\">0</span> │ -                 \n",
       "├──────────────────────────────────────┼────────────────────────────────┼──────────────────────┼───────────────────\n",
       "│    └ Dense_1_64_relu (<span style=\"color: #0087ff; text-decoration-color: #0087ff\">Dense</span>)         │ (<span style=\"color: #00d7ff; text-decoration-color: #00d7ff\">None</span>, <span style=\"color: #00af00; text-decoration-color: #00af00\">64</span>)                     │                <span style=\"color: #00af00; text-decoration-color: #00af00\">4,160</span> │ -                 \n",
       "├──────────────────────────────────────┼────────────────────────────────┼──────────────────────┼───────────────────\n",
       "│    └ BatchNorm_1                     │ (<span style=\"color: #00d7ff; text-decoration-color: #00d7ff\">None</span>, <span style=\"color: #00af00; text-decoration-color: #00af00\">64</span>)                     │                  <span style=\"color: #00af00; text-decoration-color: #00af00\">256</span> │ -                 \n",
       "│ (<span style=\"color: #0087ff; text-decoration-color: #0087ff\">BatchNormalization</span>)                 │                                │                      │                   \n",
       "├──────────────────────────────────────┼────────────────────────────────┼──────────────────────┼───────────────────\n",
       "│    └ Output_Layer_sigmoid (<span style=\"color: #0087ff; text-decoration-color: #0087ff\">Dense</span>)    │ (<span style=\"color: #00d7ff; text-decoration-color: #00d7ff\">None</span>, <span style=\"color: #00af00; text-decoration-color: #00af00\">64</span>)                     │                <span style=\"color: #00af00; text-decoration-color: #00af00\">4,160</span> │ -                 \n",
       "├──────────────────────────────────────┼────────────────────────────────┼──────────────────────┼───────────────────\n",
       "│ simple_aggregation3                  │ (<span style=\"color: #00d7ff; text-decoration-color: #00d7ff\">None</span>, <span style=\"color: #00af00; text-decoration-color: #00af00\">80</span>)                     │                    <span style=\"color: #00af00; text-decoration-color: #00af00\">0</span> │ time_distributed[<span style=\"color: #00af00; text-decoration-color: #00af00\">0</span>\n",
       "│ (<span style=\"color: #0087ff; text-decoration-color: #0087ff\">SimpleAggregation3</span>)                 │                                │                      │                   \n",
       "├──────────────────────────────────────┼────────────────────────────────┼──────────────────────┼───────────────────\n",
       "│ merge_branches (<span style=\"color: #0087ff; text-decoration-color: #0087ff\">Concatenate</span>)         │ (<span style=\"color: #00d7ff; text-decoration-color: #00d7ff\">None</span>, <span style=\"color: #00af00; text-decoration-color: #00af00\">144</span>)                    │                    <span style=\"color: #00af00; text-decoration-color: #00af00\">0</span> │ EventMLP[<span style=\"color: #00af00; text-decoration-color: #00af00\">0</span>][<span style=\"color: #00af00; text-decoration-color: #00af00\">0</span>],   \n",
       "│                                      │                                │                      │ simple_aggregation\n",
       "├──────────────────────────────────────┼────────────────────────────────┼──────────────────────┼───────────────────\n",
       "│ batch_normalization                  │ (<span style=\"color: #00d7ff; text-decoration-color: #00d7ff\">None</span>, <span style=\"color: #00af00; text-decoration-color: #00af00\">144</span>)                    │                  <span style=\"color: #00af00; text-decoration-color: #00af00\">576</span> │ merge_branches[<span style=\"color: #00af00; text-decoration-color: #00af00\">0</span>][\n",
       "│ (<span style=\"color: #0087ff; text-decoration-color: #0087ff\">BatchNormalization</span>)                 │                                │                      │                   \n",
       "├──────────────────────────────────────┼────────────────────────────────┼──────────────────────┼───────────────────\n",
       "│ dense (<span style=\"color: #0087ff; text-decoration-color: #0087ff\">Dense</span>)                        │ (<span style=\"color: #00d7ff; text-decoration-color: #00d7ff\">None</span>, <span style=\"color: #00af00; text-decoration-color: #00af00\">64</span>)                     │                <span style=\"color: #00af00; text-decoration-color: #00af00\">9,280</span> │ batch_normalizatio\n",
       "├──────────────────────────────────────┼────────────────────────────────┼──────────────────────┼───────────────────\n",
       "│ dropout (<span style=\"color: #0087ff; text-decoration-color: #0087ff\">Dropout</span>)                    │ (<span style=\"color: #00d7ff; text-decoration-color: #00d7ff\">None</span>, <span style=\"color: #00af00; text-decoration-color: #00af00\">64</span>)                     │                    <span style=\"color: #00af00; text-decoration-color: #00af00\">0</span> │ dense[<span style=\"color: #00af00; text-decoration-color: #00af00\">0</span>][<span style=\"color: #00af00; text-decoration-color: #00af00\">0</span>]       \n",
       "├──────────────────────────────────────┼────────────────────────────────┼──────────────────────┼───────────────────\n",
       "│ dense_1 (<span style=\"color: #0087ff; text-decoration-color: #0087ff\">Dense</span>)                      │ (<span style=\"color: #00d7ff; text-decoration-color: #00d7ff\">None</span>, <span style=\"color: #00af00; text-decoration-color: #00af00\">64</span>)                     │                <span style=\"color: #00af00; text-decoration-color: #00af00\">4,160</span> │ dropout[<span style=\"color: #00af00; text-decoration-color: #00af00\">0</span>][<span style=\"color: #00af00; text-decoration-color: #00af00\">0</span>]     \n",
       "├──────────────────────────────────────┼────────────────────────────────┼──────────────────────┼───────────────────\n",
       "│ classification (<span style=\"color: #0087ff; text-decoration-color: #0087ff\">Dense</span>)               │ (<span style=\"color: #00d7ff; text-decoration-color: #00d7ff\">None</span>, <span style=\"color: #00af00; text-decoration-color: #00af00\">1</span>)                      │                   <span style=\"color: #00af00; text-decoration-color: #00af00\">65</span> │ dense_1[<span style=\"color: #00af00; text-decoration-color: #00af00\">0</span>][<span style=\"color: #00af00; text-decoration-color: #00af00\">0</span>]     \n",
       "└──────────────────────────────────────┴────────────────────────────────┴──────────────────────┴───────────────────\n",
       "</pre>\n"
      ],
      "text/plain": [
       "┏━━━━━━━━━━━━━━━━━━━━━━━━━━━━━━━━━━━━━━┳━━━━━━━━━━━━━━━━━━━━━━━━━━━━━━━━┳━━━━━━━━━━━━━━━━━━━━━━┳━━━━━━━━━━━━━━━━━━━\n",
       "┃\u001b[1m \u001b[0m\u001b[1mLayer (type)                        \u001b[0m\u001b[1m \u001b[0m┃\u001b[1m \u001b[0m\u001b[1mOutput Shape                  \u001b[0m\u001b[1m \u001b[0m┃\u001b[1m \u001b[0m\u001b[1m             Param #\u001b[0m\u001b[1m \u001b[0m┃\u001b[1m \u001b[0m\u001b[1mConnected to      \u001b[0m\n",
       "┡━━━━━━━━━━━━━━━━━━━━━━━━━━━━━━━━━━━━━━╇━━━━━━━━━━━━━━━━━━━━━━━━━━━━━━━━╇━━━━━━━━━━━━━━━━━━━━━━╇━━━━━━━━━━━━━━━━━━━\n",
       "│ muon_input (\u001b[38;5;33mInputLayer\u001b[0m)              │ (\u001b[38;5;45mNone\u001b[0m, \u001b[38;5;34m10\u001b[0m, \u001b[38;5;34m8\u001b[0m)                  │                    \u001b[38;5;34m0\u001b[0m │ -                 \n",
       "├──────────────────────────────────────┼────────────────────────────────┼──────────────────────┼───────────────────\n",
       "│ event_input (\u001b[38;5;33mInputLayer\u001b[0m)             │ (\u001b[38;5;45mNone\u001b[0m, \u001b[38;5;34m21\u001b[0m)                     │                    \u001b[38;5;34m0\u001b[0m │ -                 \n",
       "├──────────────────────────────────────┼────────────────────────────────┼──────────────────────┼───────────────────\n",
       "│ time_distributed (\u001b[38;5;33mTimeDistributed\u001b[0m)   │ (\u001b[38;5;45mNone\u001b[0m, \u001b[38;5;34m10\u001b[0m, \u001b[38;5;34m16\u001b[0m)                 │               \u001b[38;5;34m14,896\u001b[0m │ muon_input[\u001b[38;5;34m0\u001b[0m][\u001b[38;5;34m0\u001b[0m]  \n",
       "├──────────────────────────────────────┼────────────────────────────────┼──────────────────────┼───────────────────\n",
       "│ EventMLP (\u001b[38;5;33mSequential\u001b[0m)                │ (\u001b[38;5;45mNone\u001b[0m, \u001b[38;5;34m64\u001b[0m)                     │               \u001b[38;5;34m10,324\u001b[0m │ event_input[\u001b[38;5;34m0\u001b[0m][\u001b[38;5;34m0\u001b[0m] \n",
       "├──────────────────────────────────────┼────────────────────────────────┼──────────────────────┼───────────────────\n",
       "│    └ BatchNorm_Input                 │ (\u001b[38;5;45mNone\u001b[0m, \u001b[38;5;34m21\u001b[0m)                     │                   \u001b[38;5;34m84\u001b[0m │ -                 \n",
       "│ (\u001b[38;5;33mBatchNormalization\u001b[0m)                 │                                │                      │                   \n",
       "├──────────────────────────────────────┼────────────────────────────────┼──────────────────────┼───────────────────\n",
       "│    └ Dense_0_64_relu (\u001b[38;5;33mDense\u001b[0m)         │ (\u001b[38;5;45mNone\u001b[0m, \u001b[38;5;34m64\u001b[0m)                     │                \u001b[38;5;34m1,408\u001b[0m │ -                 \n",
       "├──────────────────────────────────────┼────────────────────────────────┼──────────────────────┼───────────────────\n",
       "│    └ BatchNorm_0                     │ (\u001b[38;5;45mNone\u001b[0m, \u001b[38;5;34m64\u001b[0m)                     │                  \u001b[38;5;34m256\u001b[0m │ -                 \n",
       "│ (\u001b[38;5;33mBatchNormalization\u001b[0m)                 │                                │                      │                   \n",
       "├──────────────────────────────────────┼────────────────────────────────┼──────────────────────┼───────────────────\n",
       "│    └ Dropout_0_0.7 (\u001b[38;5;33mDropout\u001b[0m)         │ (\u001b[38;5;45mNone\u001b[0m, \u001b[38;5;34m64\u001b[0m)                     │                    \u001b[38;5;34m0\u001b[0m │ -                 \n",
       "├──────────────────────────────────────┼────────────────────────────────┼──────────────────────┼───────────────────\n",
       "│    └ Dense_1_64_relu (\u001b[38;5;33mDense\u001b[0m)         │ (\u001b[38;5;45mNone\u001b[0m, \u001b[38;5;34m64\u001b[0m)                     │                \u001b[38;5;34m4,160\u001b[0m │ -                 \n",
       "├──────────────────────────────────────┼────────────────────────────────┼──────────────────────┼───────────────────\n",
       "│    └ BatchNorm_1                     │ (\u001b[38;5;45mNone\u001b[0m, \u001b[38;5;34m64\u001b[0m)                     │                  \u001b[38;5;34m256\u001b[0m │ -                 \n",
       "│ (\u001b[38;5;33mBatchNormalization\u001b[0m)                 │                                │                      │                   \n",
       "├──────────────────────────────────────┼────────────────────────────────┼──────────────────────┼───────────────────\n",
       "│    └ Output_Layer_sigmoid (\u001b[38;5;33mDense\u001b[0m)    │ (\u001b[38;5;45mNone\u001b[0m, \u001b[38;5;34m64\u001b[0m)                     │                \u001b[38;5;34m4,160\u001b[0m │ -                 \n",
       "├──────────────────────────────────────┼────────────────────────────────┼──────────────────────┼───────────────────\n",
       "│ simple_aggregation3                  │ (\u001b[38;5;45mNone\u001b[0m, \u001b[38;5;34m80\u001b[0m)                     │                    \u001b[38;5;34m0\u001b[0m │ time_distributed[\u001b[38;5;34m0\u001b[0m\n",
       "│ (\u001b[38;5;33mSimpleAggregation3\u001b[0m)                 │                                │                      │                   \n",
       "├──────────────────────────────────────┼────────────────────────────────┼──────────────────────┼───────────────────\n",
       "│ merge_branches (\u001b[38;5;33mConcatenate\u001b[0m)         │ (\u001b[38;5;45mNone\u001b[0m, \u001b[38;5;34m144\u001b[0m)                    │                    \u001b[38;5;34m0\u001b[0m │ EventMLP[\u001b[38;5;34m0\u001b[0m][\u001b[38;5;34m0\u001b[0m],   \n",
       "│                                      │                                │                      │ simple_aggregation\n",
       "├──────────────────────────────────────┼────────────────────────────────┼──────────────────────┼───────────────────\n",
       "│ batch_normalization                  │ (\u001b[38;5;45mNone\u001b[0m, \u001b[38;5;34m144\u001b[0m)                    │                  \u001b[38;5;34m576\u001b[0m │ merge_branches[\u001b[38;5;34m0\u001b[0m][\n",
       "│ (\u001b[38;5;33mBatchNormalization\u001b[0m)                 │                                │                      │                   \n",
       "├──────────────────────────────────────┼────────────────────────────────┼──────────────────────┼───────────────────\n",
       "│ dense (\u001b[38;5;33mDense\u001b[0m)                        │ (\u001b[38;5;45mNone\u001b[0m, \u001b[38;5;34m64\u001b[0m)                     │                \u001b[38;5;34m9,280\u001b[0m │ batch_normalizatio\n",
       "├──────────────────────────────────────┼────────────────────────────────┼──────────────────────┼───────────────────\n",
       "│ dropout (\u001b[38;5;33mDropout\u001b[0m)                    │ (\u001b[38;5;45mNone\u001b[0m, \u001b[38;5;34m64\u001b[0m)                     │                    \u001b[38;5;34m0\u001b[0m │ dense[\u001b[38;5;34m0\u001b[0m][\u001b[38;5;34m0\u001b[0m]       \n",
       "├──────────────────────────────────────┼────────────────────────────────┼──────────────────────┼───────────────────\n",
       "│ dense_1 (\u001b[38;5;33mDense\u001b[0m)                      │ (\u001b[38;5;45mNone\u001b[0m, \u001b[38;5;34m64\u001b[0m)                     │                \u001b[38;5;34m4,160\u001b[0m │ dropout[\u001b[38;5;34m0\u001b[0m][\u001b[38;5;34m0\u001b[0m]     \n",
       "├──────────────────────────────────────┼────────────────────────────────┼──────────────────────┼───────────────────\n",
       "│ classification (\u001b[38;5;33mDense\u001b[0m)               │ (\u001b[38;5;45mNone\u001b[0m, \u001b[38;5;34m1\u001b[0m)                      │                   \u001b[38;5;34m65\u001b[0m │ dense_1[\u001b[38;5;34m0\u001b[0m][\u001b[38;5;34m0\u001b[0m]     \n",
       "└──────────────────────────────────────┴────────────────────────────────┴──────────────────────┴───────────────────\n"
      ]
     },
     "metadata": {},
     "output_type": "display_data"
    },
    {
     "data": {
      "text/html": [
       "<pre style=\"white-space:pre;overflow-x:auto;line-height:normal;font-family:Menlo,'DejaVu Sans Mono',consolas,'Courier New',monospace\"><span style=\"font-weight: bold\"> Total params: </span><span style=\"color: #00af00; text-decoration-color: #00af00\">39,301</span> (153.52 KB)\n",
       "</pre>\n"
      ],
      "text/plain": [
       "\u001b[1m Total params: \u001b[0m\u001b[38;5;34m39,301\u001b[0m (153.52 KB)\n"
      ]
     },
     "metadata": {},
     "output_type": "display_data"
    },
    {
     "data": {
      "text/html": [
       "<pre style=\"white-space:pre;overflow-x:auto;line-height:normal;font-family:Menlo,'DejaVu Sans Mono',consolas,'Courier New',monospace\"><span style=\"font-weight: bold\"> Trainable params: </span><span style=\"color: #00af00; text-decoration-color: #00af00\">37,675</span> (147.17 KB)\n",
       "</pre>\n"
      ],
      "text/plain": [
       "\u001b[1m Trainable params: \u001b[0m\u001b[38;5;34m37,675\u001b[0m (147.17 KB)\n"
      ]
     },
     "metadata": {},
     "output_type": "display_data"
    },
    {
     "data": {
      "text/html": [
       "<pre style=\"white-space:pre;overflow-x:auto;line-height:normal;font-family:Menlo,'DejaVu Sans Mono',consolas,'Courier New',monospace\"><span style=\"font-weight: bold\"> Non-trainable params: </span><span style=\"color: #00af00; text-decoration-color: #00af00\">1,626</span> (6.35 KB)\n",
       "</pre>\n"
      ],
      "text/plain": [
       "\u001b[1m Non-trainable params: \u001b[0m\u001b[38;5;34m1,626\u001b[0m (6.35 KB)\n"
      ]
     },
     "metadata": {},
     "output_type": "display_data"
    }
   ],
   "source": [
    "import warnings\n",
    "import os\n",
    "\n",
    "warnings.filterwarnings('ignore')\n",
    "\n",
    "print(\"Python warnings have been suppressed\")\n",
    "\n",
    "from tfxkit.core.model_factory import ModelFactory\n",
    "import tfxkit\n",
    "import logging\n",
    "import sys\n",
    "import custom_model\n",
    "\n",
    "from tfxkit.core.logger import setup_logging\n",
    "setup_logging(level=logging.INFO)\n",
    "\n",
    "print(f'{tfxkit.__version__ = }')\n",
    "reload = True\n",
    "mf = ModelFactory(\"/Users/nrad/Work/i3rej/i3rej_hp.yaml\", \n",
    "                  overrides=[\n",
    "                    # f\"model.overwrite={reload==False}\", \n",
    "                    # f\"model.reload_model={reload}\",\n",
    "                   # \"plotter.functions.plot_predictions.parameters.weight_column_train=1\",\n",
    "                    \"training.epochs=50\",\n",
    "                    \"info.model_name=i3rej_hp\",\n",
    "                    ],\n",
    "                  debug=False\n",
    "                  )\n",
    "mf.builder.model.summary(expand_nested=True, line_length=130)"
   ]
  },
  {
   "cell_type": "code",
   "execution_count": null,
   "id": "58c5b99b",
   "metadata": {},
   "outputs": [
    {
     "name": "stderr",
     "output_type": "stream",
     "text": [
      "2025-10-20 11:07:58,175 - tfxkit.core.model_builder - INFO - Compiling model with optimizer: keras.optimizers.AdamW and parameters: \n",
      "{'learning_rate': 0.001, 'weight_decay': 0.0001, 'epsilon': 1e-07, 'beta_1': 0.9, 'beta_2': 0.999}\n",
      "2025-10-20 11:07:58,181 - tfxkit.core.model_builder - INFO - Compiling model with optimizer=<keras.src.optimizers.adamw.AdamW object at 0x16d874140>, loss=binary_crossentropy, metrics=['accuracy']\n",
      "2025-10-20 11:07:58,185 - tfxkit.core.data_manager - INFO - Using the following weights column:\n",
      "\t                Training: sample_weight_balanced\n",
      "\t                Test:     None\n"
     ]
    },
    {
     "name": "stdout",
     "output_type": "stream",
     "text": [
      "muon 1: ['mu1_pos_x', 'mu1_pos_y', 'mu1_pos_z', 'mu1_dir_x', 'mu1_dir_y', 'mu1_dir_z', 'mu1_radius', 'mu1_log_energy']\n",
      "muon 2: ['mu2_pos_x', 'mu2_pos_y', 'mu2_pos_z', 'mu2_dir_x', 'mu2_dir_y', 'mu2_dir_z', 'mu2_radius', 'mu2_log_energy']\n",
      "muon 3: ['mu3_pos_x', 'mu3_pos_y', 'mu3_pos_z', 'mu3_dir_x', 'mu3_dir_y', 'mu3_dir_z', 'mu3_radius', 'mu3_log_energy']\n",
      "muon 4: ['mu4_pos_x', 'mu4_pos_y', 'mu4_pos_z', 'mu4_dir_x', 'mu4_dir_y', 'mu4_dir_z', 'mu4_radius', 'mu4_log_energy']\n",
      "muon 5: ['mu5_pos_x', 'mu5_pos_y', 'mu5_pos_z', 'mu5_dir_x', 'mu5_dir_y', 'mu5_dir_z', 'mu5_radius', 'mu5_log_energy']\n",
      "muon 6: ['mu6_pos_x', 'mu6_pos_y', 'mu6_pos_z', 'mu6_dir_x', 'mu6_dir_y', 'mu6_dir_z', 'mu6_radius', 'mu6_log_energy']\n",
      "muon 7: ['mu7_pos_x', 'mu7_pos_y', 'mu7_pos_z', 'mu7_dir_x', 'mu7_dir_y', 'mu7_dir_z', 'mu7_radius', 'mu7_log_energy']\n",
      "muon 8: ['mu8_pos_x', 'mu8_pos_y', 'mu8_pos_z', 'mu8_dir_x', 'mu8_dir_y', 'mu8_dir_z', 'mu8_radius', 'mu8_log_energy']\n",
      "muon 9: ['mu9_pos_x', 'mu9_pos_y', 'mu9_pos_z', 'mu9_dir_x', 'mu9_dir_y', 'mu9_dir_z', 'mu9_radius', 'mu9_log_energy']\n",
      "muon 10: ['mu10_pos_x', 'mu10_pos_y', 'mu10_pos_z', 'mu10_dir_x', 'mu10_dir_y', 'mu10_dir_z', 'mu10_radius', 'mu10_log_energy']\n",
      "muon 1: ['mu1_pos_x', 'mu1_pos_y', 'mu1_pos_z', 'mu1_dir_x', 'mu1_dir_y', 'mu1_dir_z', 'mu1_radius', 'mu1_log_energy']\n",
      "muon 2: ['mu2_pos_x', 'mu2_pos_y', 'mu2_pos_z', 'mu2_dir_x', 'mu2_dir_y', 'mu2_dir_z', 'mu2_radius', 'mu2_log_energy']\n",
      "muon 3: ['mu3_pos_x', 'mu3_pos_y', 'mu3_pos_z', 'mu3_dir_x', 'mu3_dir_y', 'mu3_dir_z', 'mu3_radius', 'mu3_log_energy']\n",
      "muon 4: ['mu4_pos_x', 'mu4_pos_y', 'mu4_pos_z', 'mu4_dir_x', 'mu4_dir_y', 'mu4_dir_z', 'mu4_radius', 'mu4_log_energy']\n",
      "muon 5: ['mu5_pos_x', 'mu5_pos_y', 'mu5_pos_z', 'mu5_dir_x', 'mu5_dir_y', 'mu5_dir_z', 'mu5_radius', 'mu5_log_energy']\n",
      "muon 6: ['mu6_pos_x', 'mu6_pos_y', 'mu6_pos_z', 'mu6_dir_x', 'mu6_dir_y', 'mu6_dir_z', 'mu6_radius', 'mu6_log_energy']\n",
      "muon 7: ['mu7_pos_x', 'mu7_pos_y', 'mu7_pos_z', 'mu7_dir_x', 'mu7_dir_y', 'mu7_dir_z', 'mu7_radius', 'mu7_log_energy']\n",
      "muon 8: ['mu8_pos_x', 'mu8_pos_y', 'mu8_pos_z', 'mu8_dir_x', 'mu8_dir_y', 'mu8_dir_z', 'mu8_radius', 'mu8_log_energy']\n",
      "muon 9: ['mu9_pos_x', 'mu9_pos_y', 'mu9_pos_z', 'mu9_dir_x', 'mu9_dir_y', 'mu9_dir_z', 'mu9_radius', 'mu9_log_energy']\n",
      "muon 10: ['mu10_pos_x', 'mu10_pos_y', 'mu10_pos_z', 'mu10_dir_x', 'mu10_dir_y', 'mu10_dir_z', 'mu10_radius', 'mu10_log_energy']\n"
     ]
    },
    {
     "name": "stderr",
     "output_type": "stream",
     "text": [
      "2025-10-20 11:08:03,620 - tfxkit.core.trainer - INFO - Training model with fit_kwargs: {'verbose': 1, 'x': (           log_z   log_rho  log_length  log_energy  interaction_height  \\\n",
      "77851   5.046661  4.945599    5.098766    5.671082         14133.06750   \n",
      "355754  5.042898  5.153460    5.131943    4.979388         30174.08750   \n",
      "468061  5.048325  4.642220    4.938102    3.961016         32094.97750   \n",
      "604734  5.031919  5.378858    5.256353    5.189265         38985.77250   \n",
      "120204  5.047205  4.879085    4.990093    7.933048         32089.67250   \n",
      "...          ...       ...         ...         ...                 ...   \n",
      "258805  5.042842  5.158898    5.069673    5.391787         41422.22250   \n",
      "234970  5.048637  4.463479    4.995999    3.441062         16928.19625   \n",
      "182713  5.034138  5.353444    5.271223    6.571601         31614.42500   \n",
      "370393  5.047960  4.747839    4.964459    5.623032         30578.53250   \n",
      "66352   5.047581  4.831645    4.989990    6.769136         29058.69000   \n",
      "\n",
      "        cos_zenith  pdg_map  log_energy_per_nucleon     depth  multiplicity  \\\n",
      "77851     0.785968        0                5.671082  1.760029           4.0   \n",
      "355754    0.609781        0                4.979388  1.148071           6.0   \n",
      "468061    0.930673        0                3.961016  1.148071           2.0   \n",
      "604734    0.409061        0                5.189265  1.253733           1.0   \n",
      "120204    0.825725        2                6.786920  1.148071        1089.0   \n",
      "...            ...      ...                     ...       ...           ...   \n",
      "258805    0.607980        3                3.960423  1.461214           7.0   \n",
      "234970    0.967587        0                3.441062  1.148071           1.0   \n",
      "182713    0.434768        0                6.571601  2.327469           1.0   \n",
      "370393    0.892329        1                5.020972  1.148071          18.0   \n",
      "66352     0.856937        3                5.337772  1.874752          34.0   \n",
      "\n",
      "        ...  mu_radius_std  mu_radius_min  mu_radius_max  mu_log_energy_mean  \\\n",
      "77851   ...       0.696532       2.069049       3.641842            2.796158   \n",
      "355754  ...       9.629805       4.656179      32.025455            2.414315   \n",
      "468061  ...       1.029003       6.759186       8.817192            2.754340   \n",
      "604734  ...       0.000000       5.019318       5.019318            2.581690   \n",
      "120204  ...       0.946655       0.591297       3.548321            3.898809   \n",
      "...     ...            ...            ...            ...                 ...   \n",
      "258805  ...      29.660767       2.615760      95.342083            2.400529   \n",
      "234970  ...       0.000000      40.996325      40.996325            2.437962   \n",
      "182713  ...       0.000000       7.706190       7.706190            1.985957   \n",
      "370393  ...       5.396985       1.133391      19.674140            2.882522   \n",
      "66352   ...       3.967253       0.648496      15.394384            2.895762   \n",
      "\n",
      "        mu_log_energy_std  mu_log_energy_min  mu_log_energy_max  singleness  \\\n",
      "77851            2.774738           1.621744           3.197631    0.630105   \n",
      "355754           2.622755           0.417887           3.072977    0.759469   \n",
      "468061           2.723473           1.590714           3.040211    0.965696   \n",
      "604734           0.000000           2.581690           2.581690    1.000000   \n",
      "120204           3.563900           3.698263           4.251769    0.225403   \n",
      "...                   ...                ...                ...         ...   \n",
      "258805           2.350794           1.291286           2.789780    0.350068   \n",
      "234970           0.000000           2.437962           2.437962    1.000000   \n",
      "182713           0.000000           1.985957           1.985957    1.000000   \n",
      "370393           2.802509           2.215501           3.346156    0.290826   \n",
      "66352            2.513693           2.667012           3.138966    0.175067   \n",
      "\n",
      "        mu_leading_energy_fraction  mu_bundle_log_energy  \n",
      "77851                     0.003362              3.398218  \n",
      "355754                    0.012405              3.192467  \n",
      "468061                    0.120004              3.055370  \n",
      "604734                    0.002468              2.581690  \n",
      "120204                    0.002916              4.898809  \n",
      "...                            ...                   ...  \n",
      "258805                    0.067508              3.245628  \n",
      "234970                    0.099289              2.437962  \n",
      "182713                    0.000026              1.985957  \n",
      "370393                    0.021144              3.882522  \n",
      "66352                     0.006327              3.895762  \n",
      "\n",
      "[497840 rows x 21 columns], array([[[-7.57813306e+02, -2.56357159e+02,  1.92583052e+02, ...,\n",
      "         -7.85905351e-01,  3.64184183e+00,  3.19763127e+00],\n",
      "        [-7.56716431e+02, -2.59577047e+02,  1.90812654e+02, ...,\n",
      "         -7.85955672e-01,  2.06904903e+00,  2.82691531e+00],\n",
      "        [-7.56842047e+02, -2.59210563e+02,  1.85243767e+02, ...,\n",
      "         -7.86159809e-01,  2.12342148e+00,  2.32669592e+00],\n",
      "        ...,\n",
      "        [ 0.00000000e+00,  0.00000000e+00,  0.00000000e+00, ...,\n",
      "          0.00000000e+00,  0.00000000e+00,  0.00000000e+00],\n",
      "        [ 0.00000000e+00,  0.00000000e+00,  0.00000000e+00, ...,\n",
      "          0.00000000e+00,  0.00000000e+00,  0.00000000e+00],\n",
      "        [ 0.00000000e+00,  0.00000000e+00,  0.00000000e+00, ...,\n",
      "          0.00000000e+00,  0.00000000e+00,  0.00000000e+00]],\n",
      "\n",
      "       [[ 2.01039522e+02,  2.32449631e+01,  8.00000000e+02, ...,\n",
      "         -6.09798756e-01,  4.65617872e+00,  3.07297671e+00],\n",
      "        [ 1.95894908e+02,  1.33263604e+01,  8.00000000e+02, ...,\n",
      "         -6.09694383e-01,  6.69026170e+00,  2.35415895e+00],\n",
      "        [ 2.02678417e+02,  4.13049555e+01,  8.00000000e+02, ...,\n",
      "         -6.10230582e-01,  1.53092258e+01,  1.88913563e+00],\n",
      "        ...,\n",
      "        [ 0.00000000e+00,  0.00000000e+00,  0.00000000e+00, ...,\n",
      "          0.00000000e+00,  0.00000000e+00,  0.00000000e+00],\n",
      "        [ 0.00000000e+00,  0.00000000e+00,  0.00000000e+00, ...,\n",
      "          0.00000000e+00,  0.00000000e+00,  0.00000000e+00],\n",
      "        [ 0.00000000e+00,  0.00000000e+00,  0.00000000e+00, ...,\n",
      "          0.00000000e+00,  0.00000000e+00,  0.00000000e+00]],\n",
      "\n",
      "       [[-1.94177063e+02, -1.92625056e+02,  8.00000000e+02, ...,\n",
      "         -9.30756078e-01,  8.81719186e+00,  3.04021064e+00],\n",
      "        [-2.06713163e+02, -1.85393257e+02,  8.00000000e+02, ...,\n",
      "         -9.30740264e-01,  6.75918562e+00,  1.59071395e+00],\n",
      "        [ 0.00000000e+00,  0.00000000e+00,  0.00000000e+00, ...,\n",
      "          0.00000000e+00,  0.00000000e+00,  0.00000000e+00],\n",
      "        ...,\n",
      "        [ 0.00000000e+00,  0.00000000e+00,  0.00000000e+00, ...,\n",
      "          0.00000000e+00,  0.00000000e+00,  0.00000000e+00],\n",
      "        [ 0.00000000e+00,  0.00000000e+00,  0.00000000e+00, ...,\n",
      "          0.00000000e+00,  0.00000000e+00,  0.00000000e+00],\n",
      "        [ 0.00000000e+00,  0.00000000e+00,  0.00000000e+00, ...,\n",
      "          0.00000000e+00,  0.00000000e+00,  0.00000000e+00]],\n",
      "\n",
      "       ...,\n",
      "\n",
      "       [[-4.20953948e+02, -6.80292418e+02, -3.84586043e+02, ...,\n",
      "         -4.34863771e-01,  7.70618977e+00,  1.98595679e+00],\n",
      "        [ 0.00000000e+00,  0.00000000e+00,  0.00000000e+00, ...,\n",
      "          0.00000000e+00,  0.00000000e+00,  0.00000000e+00],\n",
      "        [ 0.00000000e+00,  0.00000000e+00,  0.00000000e+00, ...,\n",
      "          0.00000000e+00,  0.00000000e+00,  0.00000000e+00],\n",
      "        ...,\n",
      "        [ 0.00000000e+00,  0.00000000e+00,  0.00000000e+00, ...,\n",
      "          0.00000000e+00,  0.00000000e+00,  0.00000000e+00],\n",
      "        [ 0.00000000e+00,  0.00000000e+00,  0.00000000e+00, ...,\n",
      "          0.00000000e+00,  0.00000000e+00,  0.00000000e+00],\n",
      "        [ 0.00000000e+00,  0.00000000e+00,  0.00000000e+00, ...,\n",
      "          0.00000000e+00,  0.00000000e+00,  0.00000000e+00]],\n",
      "\n",
      "       [[-4.31792440e+02,  8.12797282e+01,  8.00000000e+02, ...,\n",
      "         -8.92221986e-01,  8.41661528e+00,  3.34615605e+00],\n",
      "        [-4.27818377e+02,  6.91732751e+01,  8.00000000e+02, ...,\n",
      "         -8.92490932e-01,  2.99770108e+00,  3.15299594e+00],\n",
      "        [-4.29475178e+02,  7.12256028e+01,  8.00000000e+02, ...,\n",
      "         -8.92359418e-01,  1.13339071e+00,  3.10060838e+00],\n",
      "        ...,\n",
      "        [-4.19266744e+02,  7.08102007e+01,  8.00000000e+02, ...,\n",
      "         -8.92386196e-01,  9.70227863e+00,  2.46622583e+00],\n",
      "        [-4.21830656e+02,  8.01945850e+01,  8.00000000e+02, ...,\n",
      "         -8.92276794e-01,  1.01572147e+01,  2.27729093e+00],\n",
      "        [-4.29305532e+02,  5.03505069e+01,  8.00000000e+02, ...,\n",
      "         -8.92643405e-01,  1.96741402e+01,  2.21550070e+00]],\n",
      "\n",
      "       [[-5.22560905e+02, -6.05747555e+02,  7.01211335e+01, ...,\n",
      "         -8.56981391e-01,  2.38308544e+00,  3.13896622e+00],\n",
      "        [-5.25832280e+02, -6.02909954e+02,  6.80601623e+01, ...,\n",
      "         -8.57019374e-01,  3.70458904e+00,  3.09972277e+00],\n",
      "        [-5.25593448e+02, -6.03118170e+02,  8.35347598e+01, ...,\n",
      "         -8.56787773e-01,  5.92042431e+00,  2.99945727e+00],\n",
      "        ...,\n",
      "        [-5.24966843e+02, -6.03663660e+02,  7.38200605e+01, ...,\n",
      "         -8.56940574e-01,  1.59670806e+00,  2.69596878e+00],\n",
      "        [-5.24271992e+02, -6.04267224e+02,  6.87110010e+01, ...,\n",
      "         -8.57062677e-01,  2.42043651e+00,  2.67508439e+00],\n",
      "        [-5.23307319e+02, -6.05102842e+02,  7.36572202e+01, ...,\n",
      "         -8.56842152e-01,  6.48496326e-01,  2.66701225e+00]]])), 'y':         CscdBDT\n",
      "77851       0.0\n",
      "355754      0.0\n",
      "468061      1.0\n",
      "604734      0.0\n",
      "120204      1.0\n",
      "...         ...\n",
      "258805      0.0\n",
      "234970      0.0\n",
      "182713      0.0\n",
      "370393      0.0\n",
      "66352       1.0\n",
      "\n",
      "[497840 rows x 1 columns], 'sample_weight': 77851     0.2\n",
      "355754    0.2\n",
      "468061    1.0\n",
      "604734    0.2\n",
      "120204    1.0\n",
      "         ... \n",
      "258805    0.2\n",
      "234970    0.2\n",
      "182713    0.2\n",
      "370393    0.2\n",
      "66352     1.0\n",
      "Name: sample_weight_balanced, Length: 497840, dtype: float64, 'batch_size': 32000, 'class_weight': None, 'epochs': 50, 'initial_epoch': 0, 'shuffle': True, 'steps_per_epoch': None, 'validation_batch_size': None, 'validation_data': None, 'validation_freq': 1, 'validation_split': 0.2, 'validation_steps': None}\n"
     ]
    },
    {
     "name": "stdout",
     "output_type": "stream",
     "text": [
      "Epoch 1/50\n",
      "\u001b[1m13/13\u001b[0m \u001b[32m━━━━━━━━━━━━━━━━━━━━\u001b[0m\u001b[37m\u001b[0m \u001b[1m15s\u001b[0m 868ms/step - accuracy: 0.2722 - loss: 0.3684 - val_accuracy: 0.7996 - val_loss: 0.3581\n",
      "Epoch 2/50\n",
      "\u001b[1m13/13\u001b[0m \u001b[32m━━━━━━━━━━━━━━━━━━━━\u001b[0m\u001b[37m\u001b[0m \u001b[1m10s\u001b[0m 747ms/step - accuracy: 0.6016 - loss: 0.2619 - val_accuracy: 0.7997 - val_loss: 0.3311\n",
      "Epoch 3/50\n",
      "\u001b[1m13/13\u001b[0m \u001b[32m━━━━━━━━━━━━━━━━━━━━\u001b[0m\u001b[37m\u001b[0m \u001b[1m10s\u001b[0m 742ms/step - accuracy: 0.6303 - loss: 0.2415 - val_accuracy: 0.8073 - val_loss: 0.2957\n",
      "Epoch 4/50\n",
      "\u001b[1m13/13\u001b[0m \u001b[32m━━━━━━━━━━━━━━━━━━━━\u001b[0m\u001b[37m\u001b[0m \u001b[1m10s\u001b[0m 774ms/step - accuracy: 0.6470 - loss: 0.2313 - val_accuracy: 0.8179 - val_loss: 0.2744\n",
      "Epoch 5/50\n",
      "\u001b[1m13/13\u001b[0m \u001b[32m━━━━━━━━━━━━━━━━━━━━\u001b[0m\u001b[37m\u001b[0m \u001b[1m10s\u001b[0m 760ms/step - accuracy: 0.6754 - loss: 0.2236 - val_accuracy: 0.8179 - val_loss: 0.2625\n",
      "Epoch 6/50\n",
      "\u001b[1m13/13\u001b[0m \u001b[32m━━━━━━━━━━━━━━━━━━━━\u001b[0m\u001b[37m\u001b[0m \u001b[1m10s\u001b[0m 736ms/step - accuracy: 0.6940 - loss: 0.2181 - val_accuracy: 0.8171 - val_loss: 0.2532\n",
      "Epoch 7/50\n",
      "\u001b[1m13/13\u001b[0m \u001b[32m━━━━━━━━━━━━━━━━━━━━\u001b[0m\u001b[37m\u001b[0m \u001b[1m10s\u001b[0m 757ms/step - accuracy: 0.7078 - loss: 0.2136 - val_accuracy: 0.8156 - val_loss: 0.2439\n",
      "Epoch 8/50\n",
      "\u001b[1m13/13\u001b[0m \u001b[32m━━━━━━━━━━━━━━━━━━━━\u001b[0m\u001b[37m\u001b[0m \u001b[1m10s\u001b[0m 732ms/step - accuracy: 0.7167 - loss: 0.2088 - val_accuracy: 0.8135 - val_loss: 0.2386\n",
      "Epoch 9/50\n",
      "\u001b[1m13/13\u001b[0m \u001b[32m━━━━━━━━━━━━━━━━━━━━\u001b[0m\u001b[37m\u001b[0m \u001b[1m10s\u001b[0m 756ms/step - accuracy: 0.7210 - loss: 0.2060 - val_accuracy: 0.8129 - val_loss: 0.2365\n",
      "Epoch 10/50\n",
      "\u001b[1m13/13\u001b[0m \u001b[32m━━━━━━━━━━━━━━━━━━━━\u001b[0m\u001b[37m\u001b[0m \u001b[1m10s\u001b[0m 752ms/step - accuracy: 0.7284 - loss: 0.2026 - val_accuracy: 0.8095 - val_loss: 0.2299\n",
      "Epoch 11/50\n",
      "\u001b[1m13/13\u001b[0m \u001b[32m━━━━━━━━━━━━━━━━━━━━\u001b[0m\u001b[37m\u001b[0m \u001b[1m10s\u001b[0m 751ms/step - accuracy: 0.7306 - loss: 0.2006 - val_accuracy: 0.8059 - val_loss: 0.2286\n",
      "Epoch 12/50\n",
      "\u001b[1m13/13\u001b[0m \u001b[32m━━━━━━━━━━━━━━━━━━━━\u001b[0m\u001b[37m\u001b[0m \u001b[1m10s\u001b[0m 733ms/step - accuracy: 0.7341 - loss: 0.1981 - val_accuracy: 0.8031 - val_loss: 0.2274\n",
      "Epoch 13/50\n",
      "\u001b[1m13/13\u001b[0m \u001b[32m━━━━━━━━━━━━━━━━━━━━\u001b[0m\u001b[37m\u001b[0m \u001b[1m10s\u001b[0m 755ms/step - accuracy: 0.7359 - loss: 0.1964 - val_accuracy: 0.7952 - val_loss: 0.2241\n",
      "Epoch 14/50\n",
      "\u001b[1m13/13\u001b[0m \u001b[32m━━━━━━━━━━━━━━━━━━━━\u001b[0m\u001b[37m\u001b[0m \u001b[1m10s\u001b[0m 755ms/step - accuracy: 0.7393 - loss: 0.1943 - val_accuracy: 0.7900 - val_loss: 0.2221\n",
      "Epoch 15/50\n",
      "\u001b[1m13/13\u001b[0m \u001b[32m━━━━━━━━━━━━━━━━━━━━\u001b[0m\u001b[37m\u001b[0m \u001b[1m10s\u001b[0m 748ms/step - accuracy: 0.7390 - loss: 0.1932 - val_accuracy: 0.7835 - val_loss: 0.2230\n",
      "Epoch 16/50\n",
      "\u001b[1m13/13\u001b[0m \u001b[32m━━━━━━━━━━━━━━━━━━━━\u001b[0m\u001b[37m\u001b[0m \u001b[1m12s\u001b[0m 900ms/step - accuracy: 0.7408 - loss: 0.1917 - val_accuracy: 0.7903 - val_loss: 0.2209\n",
      "Epoch 17/50\n",
      "\u001b[1m13/13\u001b[0m \u001b[32m━━━━━━━━━━━━━━━━━━━━\u001b[0m\u001b[37m\u001b[0m \u001b[1m10s\u001b[0m 761ms/step - accuracy: 0.7434 - loss: 0.1908 - val_accuracy: 0.7899 - val_loss: 0.2202\n",
      "Epoch 18/50\n",
      "\u001b[1m13/13\u001b[0m \u001b[32m━━━━━━━━━━━━━━━━━━━━\u001b[0m\u001b[37m\u001b[0m \u001b[1m10s\u001b[0m 788ms/step - accuracy: 0.7445 - loss: 0.1892 - val_accuracy: 0.7931 - val_loss: 0.2206\n",
      "Epoch 19/50\n",
      "\u001b[1m13/13\u001b[0m \u001b[32m━━━━━━━━━━━━━━━━━━━━\u001b[0m\u001b[37m\u001b[0m \u001b[1m10s\u001b[0m 753ms/step - accuracy: 0.7468 - loss: 0.1883 - val_accuracy: 0.7947 - val_loss: 0.2190\n",
      "Epoch 20/50\n",
      "\u001b[1m13/13\u001b[0m \u001b[32m━━━━━━━━━━━━━━━━━━━━\u001b[0m\u001b[37m\u001b[0m \u001b[1m10s\u001b[0m 741ms/step - accuracy: 0.7478 - loss: 0.1874 - val_accuracy: 0.7739 - val_loss: 0.2186\n",
      "Epoch 21/50\n",
      "\u001b[1m13/13\u001b[0m \u001b[32m━━━━━━━━━━━━━━━━━━━━\u001b[0m\u001b[37m\u001b[0m \u001b[1m10s\u001b[0m 767ms/step - accuracy: 0.7495 - loss: 0.1870 - val_accuracy: 0.7946 - val_loss: 0.2193\n",
      "Epoch 22/50\n",
      "\u001b[1m13/13\u001b[0m \u001b[32m━━━━━━━━━━━━━━━━━━━━\u001b[0m\u001b[37m\u001b[0m \u001b[1m10s\u001b[0m 766ms/step - accuracy: 0.7503 - loss: 0.1855 - val_accuracy: 0.7923 - val_loss: 0.2177\n",
      "Epoch 23/50\n",
      "\u001b[1m13/13\u001b[0m \u001b[32m━━━━━━━━━━━━━━━━━━━━\u001b[0m\u001b[37m\u001b[0m \u001b[1m11s\u001b[0m 857ms/step - accuracy: 0.7498 - loss: 0.1852 - val_accuracy: 0.7967 - val_loss: 0.2194\n",
      "Epoch 24/50\n",
      "\u001b[1m13/13\u001b[0m \u001b[32m━━━━━━━━━━━━━━━━━━━━\u001b[0m\u001b[37m\u001b[0m \u001b[1m14s\u001b[0m 1s/step - accuracy: 0.7509 - loss: 0.1844 - val_accuracy: 0.7773 - val_loss: 0.2152\n",
      "Epoch 25/50\n",
      "\u001b[1m13/13\u001b[0m \u001b[32m━━━━━━━━━━━━━━━━━━━━\u001b[0m\u001b[37m\u001b[0m \u001b[1m14s\u001b[0m 1s/step - accuracy: 0.7503 - loss: 0.1831 - val_accuracy: 0.7920 - val_loss: 0.2152\n",
      "Epoch 26/50\n",
      "\u001b[1m13/13\u001b[0m \u001b[32m━━━━━━━━━━━━━━━━━━━━\u001b[0m\u001b[37m\u001b[0m \u001b[1m13s\u001b[0m 1s/step - accuracy: 0.7515 - loss: 0.1824 - val_accuracy: 0.7880 - val_loss: 0.2164\n",
      "Epoch 27/50\n",
      "\u001b[1m13/13\u001b[0m \u001b[32m━━━━━━━━━━━━━━━━━━━━\u001b[0m\u001b[37m\u001b[0m \u001b[1m11s\u001b[0m 818ms/step - accuracy: 0.7517 - loss: 0.1824 - val_accuracy: 0.7946 - val_loss: 0.2178\n",
      "Epoch 28/50\n",
      "\u001b[1m13/13\u001b[0m \u001b[32m━━━━━━━━━━━━━━━━━━━━\u001b[0m\u001b[37m\u001b[0m \u001b[1m14s\u001b[0m 1s/step - accuracy: 0.7532 - loss: 0.1813 - val_accuracy: 0.7962 - val_loss: 0.2174\n",
      "Epoch 29/50\n",
      "\u001b[1m13/13\u001b[0m \u001b[32m━━━━━━━━━━━━━━━━━━━━\u001b[0m\u001b[37m\u001b[0m \u001b[1m11s\u001b[0m 825ms/step - accuracy: 0.7517 - loss: 0.1801 - val_accuracy: 0.8004 - val_loss: 0.2196\n",
      "Epoch 30/50\n",
      "\u001b[1m13/13\u001b[0m \u001b[32m━━━━━━━━━━━━━━━━━━━━\u001b[0m\u001b[37m\u001b[0m \u001b[1m10s\u001b[0m 792ms/step - accuracy: 0.7552 - loss: 0.1791 - val_accuracy: 0.8002 - val_loss: 0.2177\n",
      "Epoch 31/50\n",
      "\u001b[1m13/13\u001b[0m \u001b[32m━━━━━━━━━━━━━━━━━━━━\u001b[0m\u001b[37m\u001b[0m \u001b[1m11s\u001b[0m 788ms/step - accuracy: 0.7537 - loss: 0.1791 - val_accuracy: 0.7996 - val_loss: 0.2168\n",
      "Epoch 32/50\n"
     ]
    }
   ],
   "source": [
    "mf.compile()\n",
    "mf.fit()"
   ]
  },
  {
   "cell_type": "code",
   "execution_count": null,
   "id": "d1534e53",
   "metadata": {},
   "outputs": [
    {
     "data": {
      "text/html": [
       "<pre style=\"white-space:pre;overflow-x:auto;line-height:normal;font-family:Menlo,'DejaVu Sans Mono',consolas,'Courier New',monospace\"><span style=\"font-weight: bold\">Model: \"CombinedModel\"</span>\n",
       "</pre>\n"
      ],
      "text/plain": [
       "\u001b[1mModel: \"CombinedModel\"\u001b[0m\n"
      ]
     },
     "metadata": {},
     "output_type": "display_data"
    },
    {
     "data": {
      "text/html": [
       "<pre style=\"white-space:pre;overflow-x:auto;line-height:normal;font-family:Menlo,'DejaVu Sans Mono',consolas,'Courier New',monospace\">┏━━━━━━━━━━━━━━━━━━━━━━━━━━━━━┳━━━━━━━━━━━━━━━━━━━━━━━━━┳━━━━━━━━━━━━━━━━┳━━━━━━━━━━━━━━━━━━━━━━━━━┓\n",
       "┃<span style=\"font-weight: bold\"> Layer (type)                </span>┃<span style=\"font-weight: bold\"> Output Shape            </span>┃<span style=\"font-weight: bold\">        Param # </span>┃<span style=\"font-weight: bold\"> Connected to            </span>┃\n",
       "┡━━━━━━━━━━━━━━━━━━━━━━━━━━━━━╇━━━━━━━━━━━━━━━━━━━━━━━━━╇━━━━━━━━━━━━━━━━╇━━━━━━━━━━━━━━━━━━━━━━━━━┩\n",
       "│ muon_input (<span style=\"color: #0087ff; text-decoration-color: #0087ff\">InputLayer</span>)     │ (<span style=\"color: #00d7ff; text-decoration-color: #00d7ff\">None</span>, <span style=\"color: #00af00; text-decoration-color: #00af00\">10</span>, <span style=\"color: #00af00; text-decoration-color: #00af00\">8</span>)           │              <span style=\"color: #00af00; text-decoration-color: #00af00\">0</span> │ -                       │\n",
       "├─────────────────────────────┼─────────────────────────┼────────────────┼─────────────────────────┤\n",
       "│ event_input (<span style=\"color: #0087ff; text-decoration-color: #0087ff\">InputLayer</span>)    │ (<span style=\"color: #00d7ff; text-decoration-color: #00d7ff\">None</span>, <span style=\"color: #00af00; text-decoration-color: #00af00\">21</span>)              │              <span style=\"color: #00af00; text-decoration-color: #00af00\">0</span> │ -                       │\n",
       "├─────────────────────────────┼─────────────────────────┼────────────────┼─────────────────────────┤\n",
       "│ time_distributed_3          │ (<span style=\"color: #00d7ff; text-decoration-color: #00d7ff\">None</span>, <span style=\"color: #00af00; text-decoration-color: #00af00\">10</span>, <span style=\"color: #00af00; text-decoration-color: #00af00\">16</span>)          │             <span style=\"color: #00af00; text-decoration-color: #00af00\">77</span> │ muon_input[<span style=\"color: #00af00; text-decoration-color: #00af00\">0</span>][<span style=\"color: #00af00; text-decoration-color: #00af00\">0</span>]        │\n",
       "│ (<span style=\"color: #0087ff; text-decoration-color: #0087ff\">TimeDistributed</span>)           │                         │                │                         │\n",
       "├─────────────────────────────┼─────────────────────────┼────────────────┼─────────────────────────┤\n",
       "│ EventMLP (<span style=\"color: #0087ff; text-decoration-color: #0087ff\">Sequential</span>)       │ (<span style=\"color: #00d7ff; text-decoration-color: #00d7ff\">None</span>, <span style=\"color: #00af00; text-decoration-color: #00af00\">64</span>)              │         <span style=\"color: #00af00; text-decoration-color: #00af00\">10,324</span> │ event_input[<span style=\"color: #00af00; text-decoration-color: #00af00\">0</span>][<span style=\"color: #00af00; text-decoration-color: #00af00\">0</span>]       │\n",
       "├─────────────────────────────┼─────────────────────────┼────────────────┼─────────────────────────┤\n",
       "│    └ BatchNorm_Input        │ (<span style=\"color: #00d7ff; text-decoration-color: #00d7ff\">None</span>, <span style=\"color: #00af00; text-decoration-color: #00af00\">21</span>)              │             <span style=\"color: #00af00; text-decoration-color: #00af00\">84</span> │ -                       │\n",
       "│ (<span style=\"color: #0087ff; text-decoration-color: #0087ff\">BatchNormalization</span>)        │                         │                │                         │\n",
       "├─────────────────────────────┼─────────────────────────┼────────────────┼─────────────────────────┤\n",
       "│    └ Dense_0_64_relu        │ (<span style=\"color: #00d7ff; text-decoration-color: #00d7ff\">None</span>, <span style=\"color: #00af00; text-decoration-color: #00af00\">64</span>)              │          <span style=\"color: #00af00; text-decoration-color: #00af00\">1,408</span> │ -                       │\n",
       "│ (<span style=\"color: #0087ff; text-decoration-color: #0087ff\">Dense</span>)                     │                         │                │                         │\n",
       "├─────────────────────────────┼─────────────────────────┼────────────────┼─────────────────────────┤\n",
       "│    └ BatchNorm_0            │ (<span style=\"color: #00d7ff; text-decoration-color: #00d7ff\">None</span>, <span style=\"color: #00af00; text-decoration-color: #00af00\">64</span>)              │            <span style=\"color: #00af00; text-decoration-color: #00af00\">256</span> │ -                       │\n",
       "│ (<span style=\"color: #0087ff; text-decoration-color: #0087ff\">BatchNormalization</span>)        │                         │                │                         │\n",
       "├─────────────────────────────┼─────────────────────────┼────────────────┼─────────────────────────┤\n",
       "│    └ Dropout_0_0.7          │ (<span style=\"color: #00d7ff; text-decoration-color: #00d7ff\">None</span>, <span style=\"color: #00af00; text-decoration-color: #00af00\">64</span>)              │              <span style=\"color: #00af00; text-decoration-color: #00af00\">0</span> │ -                       │\n",
       "│ (<span style=\"color: #0087ff; text-decoration-color: #0087ff\">Dropout</span>)                   │                         │                │                         │\n",
       "├─────────────────────────────┼─────────────────────────┼────────────────┼─────────────────────────┤\n",
       "│    └ Dense_1_64_relu        │ (<span style=\"color: #00d7ff; text-decoration-color: #00d7ff\">None</span>, <span style=\"color: #00af00; text-decoration-color: #00af00\">64</span>)              │          <span style=\"color: #00af00; text-decoration-color: #00af00\">4,160</span> │ -                       │\n",
       "│ (<span style=\"color: #0087ff; text-decoration-color: #0087ff\">Dense</span>)                     │                         │                │                         │\n",
       "├─────────────────────────────┼─────────────────────────┼────────────────┼─────────────────────────┤\n",
       "│    └ BatchNorm_1            │ (<span style=\"color: #00d7ff; text-decoration-color: #00d7ff\">None</span>, <span style=\"color: #00af00; text-decoration-color: #00af00\">64</span>)              │            <span style=\"color: #00af00; text-decoration-color: #00af00\">256</span> │ -                       │\n",
       "│ (<span style=\"color: #0087ff; text-decoration-color: #0087ff\">BatchNormalization</span>)        │                         │                │                         │\n",
       "├─────────────────────────────┼─────────────────────────┼────────────────┼─────────────────────────┤\n",
       "│    └ Output_Layer_sigmoid   │ (<span style=\"color: #00d7ff; text-decoration-color: #00d7ff\">None</span>, <span style=\"color: #00af00; text-decoration-color: #00af00\">64</span>)              │          <span style=\"color: #00af00; text-decoration-color: #00af00\">4,160</span> │ -                       │\n",
       "│ (<span style=\"color: #0087ff; text-decoration-color: #0087ff\">Dense</span>)                     │                         │                │                         │\n",
       "├─────────────────────────────┼─────────────────────────┼────────────────┼─────────────────────────┤\n",
       "│ simple_aggregation3_3       │ (<span style=\"color: #00d7ff; text-decoration-color: #00d7ff\">None</span>, <span style=\"color: #00af00; text-decoration-color: #00af00\">80</span>)              │              <span style=\"color: #00af00; text-decoration-color: #00af00\">0</span> │ time_distributed_3[<span style=\"color: #00af00; text-decoration-color: #00af00\">0</span>][<span style=\"color: #00af00; text-decoration-color: #00af00\">…</span> │\n",
       "│ (<span style=\"color: #0087ff; text-decoration-color: #0087ff\">SimpleAggregation3</span>)        │                         │                │                         │\n",
       "├─────────────────────────────┼─────────────────────────┼────────────────┼─────────────────────────┤\n",
       "│ merge_branches              │ (<span style=\"color: #00d7ff; text-decoration-color: #00d7ff\">None</span>, <span style=\"color: #00af00; text-decoration-color: #00af00\">144</span>)             │              <span style=\"color: #00af00; text-decoration-color: #00af00\">0</span> │ EventMLP[<span style=\"color: #00af00; text-decoration-color: #00af00\">0</span>][<span style=\"color: #00af00; text-decoration-color: #00af00\">0</span>],         │\n",
       "│ (<span style=\"color: #0087ff; text-decoration-color: #0087ff\">Concatenate</span>)               │                         │                │ simple_aggregation3_3[<span style=\"color: #00af00; text-decoration-color: #00af00\">…</span> │\n",
       "├─────────────────────────────┼─────────────────────────┼────────────────┼─────────────────────────┤\n",
       "│ batch_normalization_3       │ (<span style=\"color: #00d7ff; text-decoration-color: #00d7ff\">None</span>, <span style=\"color: #00af00; text-decoration-color: #00af00\">144</span>)             │            <span style=\"color: #00af00; text-decoration-color: #00af00\">576</span> │ merge_branches[<span style=\"color: #00af00; text-decoration-color: #00af00\">0</span>][<span style=\"color: #00af00; text-decoration-color: #00af00\">0</span>]    │\n",
       "│ (<span style=\"color: #0087ff; text-decoration-color: #0087ff\">BatchNormalization</span>)        │                         │                │                         │\n",
       "├─────────────────────────────┼─────────────────────────┼────────────────┼─────────────────────────┤\n",
       "│ dense_6 (<span style=\"color: #0087ff; text-decoration-color: #0087ff\">Dense</span>)             │ (<span style=\"color: #00d7ff; text-decoration-color: #00d7ff\">None</span>, <span style=\"color: #00af00; text-decoration-color: #00af00\">64</span>)              │          <span style=\"color: #00af00; text-decoration-color: #00af00\">9,280</span> │ batch_normalization_3[<span style=\"color: #00af00; text-decoration-color: #00af00\">…</span> │\n",
       "├─────────────────────────────┼─────────────────────────┼────────────────┼─────────────────────────┤\n",
       "│ dropout_3 (<span style=\"color: #0087ff; text-decoration-color: #0087ff\">Dropout</span>)         │ (<span style=\"color: #00d7ff; text-decoration-color: #00d7ff\">None</span>, <span style=\"color: #00af00; text-decoration-color: #00af00\">64</span>)              │              <span style=\"color: #00af00; text-decoration-color: #00af00\">0</span> │ dense_6[<span style=\"color: #00af00; text-decoration-color: #00af00\">0</span>][<span style=\"color: #00af00; text-decoration-color: #00af00\">0</span>]           │\n",
       "├─────────────────────────────┼─────────────────────────┼────────────────┼─────────────────────────┤\n",
       "│ dense_7 (<span style=\"color: #0087ff; text-decoration-color: #0087ff\">Dense</span>)             │ (<span style=\"color: #00d7ff; text-decoration-color: #00d7ff\">None</span>, <span style=\"color: #00af00; text-decoration-color: #00af00\">64</span>)              │          <span style=\"color: #00af00; text-decoration-color: #00af00\">4,160</span> │ dropout_3[<span style=\"color: #00af00; text-decoration-color: #00af00\">0</span>][<span style=\"color: #00af00; text-decoration-color: #00af00\">0</span>]         │\n",
       "├─────────────────────────────┼─────────────────────────┼────────────────┼─────────────────────────┤\n",
       "│ classification (<span style=\"color: #0087ff; text-decoration-color: #0087ff\">Dense</span>)      │ (<span style=\"color: #00d7ff; text-decoration-color: #00d7ff\">None</span>, <span style=\"color: #00af00; text-decoration-color: #00af00\">1</span>)               │             <span style=\"color: #00af00; text-decoration-color: #00af00\">65</span> │ dense_7[<span style=\"color: #00af00; text-decoration-color: #00af00\">0</span>][<span style=\"color: #00af00; text-decoration-color: #00af00\">0</span>]           │\n",
       "└─────────────────────────────┴─────────────────────────┴────────────────┴─────────────────────────┘\n",
       "</pre>\n"
      ],
      "text/plain": [
       "┏━━━━━━━━━━━━━━━━━━━━━━━━━━━━━┳━━━━━━━━━━━━━━━━━━━━━━━━━┳━━━━━━━━━━━━━━━━┳━━━━━━━━━━━━━━━━━━━━━━━━━┓\n",
       "┃\u001b[1m \u001b[0m\u001b[1mLayer (type)               \u001b[0m\u001b[1m \u001b[0m┃\u001b[1m \u001b[0m\u001b[1mOutput Shape           \u001b[0m\u001b[1m \u001b[0m┃\u001b[1m \u001b[0m\u001b[1m       Param #\u001b[0m\u001b[1m \u001b[0m┃\u001b[1m \u001b[0m\u001b[1mConnected to           \u001b[0m\u001b[1m \u001b[0m┃\n",
       "┡━━━━━━━━━━━━━━━━━━━━━━━━━━━━━╇━━━━━━━━━━━━━━━━━━━━━━━━━╇━━━━━━━━━━━━━━━━╇━━━━━━━━━━━━━━━━━━━━━━━━━┩\n",
       "│ muon_input (\u001b[38;5;33mInputLayer\u001b[0m)     │ (\u001b[38;5;45mNone\u001b[0m, \u001b[38;5;34m10\u001b[0m, \u001b[38;5;34m8\u001b[0m)           │              \u001b[38;5;34m0\u001b[0m │ -                       │\n",
       "├─────────────────────────────┼─────────────────────────┼────────────────┼─────────────────────────┤\n",
       "│ event_input (\u001b[38;5;33mInputLayer\u001b[0m)    │ (\u001b[38;5;45mNone\u001b[0m, \u001b[38;5;34m21\u001b[0m)              │              \u001b[38;5;34m0\u001b[0m │ -                       │\n",
       "├─────────────────────────────┼─────────────────────────┼────────────────┼─────────────────────────┤\n",
       "│ time_distributed_3          │ (\u001b[38;5;45mNone\u001b[0m, \u001b[38;5;34m10\u001b[0m, \u001b[38;5;34m16\u001b[0m)          │             \u001b[38;5;34m77\u001b[0m │ muon_input[\u001b[38;5;34m0\u001b[0m][\u001b[38;5;34m0\u001b[0m]        │\n",
       "│ (\u001b[38;5;33mTimeDistributed\u001b[0m)           │                         │                │                         │\n",
       "├─────────────────────────────┼─────────────────────────┼────────────────┼─────────────────────────┤\n",
       "│ EventMLP (\u001b[38;5;33mSequential\u001b[0m)       │ (\u001b[38;5;45mNone\u001b[0m, \u001b[38;5;34m64\u001b[0m)              │         \u001b[38;5;34m10,324\u001b[0m │ event_input[\u001b[38;5;34m0\u001b[0m][\u001b[38;5;34m0\u001b[0m]       │\n",
       "├─────────────────────────────┼─────────────────────────┼────────────────┼─────────────────────────┤\n",
       "│    └ BatchNorm_Input        │ (\u001b[38;5;45mNone\u001b[0m, \u001b[38;5;34m21\u001b[0m)              │             \u001b[38;5;34m84\u001b[0m │ -                       │\n",
       "│ (\u001b[38;5;33mBatchNormalization\u001b[0m)        │                         │                │                         │\n",
       "├─────────────────────────────┼─────────────────────────┼────────────────┼─────────────────────────┤\n",
       "│    └ Dense_0_64_relu        │ (\u001b[38;5;45mNone\u001b[0m, \u001b[38;5;34m64\u001b[0m)              │          \u001b[38;5;34m1,408\u001b[0m │ -                       │\n",
       "│ (\u001b[38;5;33mDense\u001b[0m)                     │                         │                │                         │\n",
       "├─────────────────────────────┼─────────────────────────┼────────────────┼─────────────────────────┤\n",
       "│    └ BatchNorm_0            │ (\u001b[38;5;45mNone\u001b[0m, \u001b[38;5;34m64\u001b[0m)              │            \u001b[38;5;34m256\u001b[0m │ -                       │\n",
       "│ (\u001b[38;5;33mBatchNormalization\u001b[0m)        │                         │                │                         │\n",
       "├─────────────────────────────┼─────────────────────────┼────────────────┼─────────────────────────┤\n",
       "│    └ Dropout_0_0.7          │ (\u001b[38;5;45mNone\u001b[0m, \u001b[38;5;34m64\u001b[0m)              │              \u001b[38;5;34m0\u001b[0m │ -                       │\n",
       "│ (\u001b[38;5;33mDropout\u001b[0m)                   │                         │                │                         │\n",
       "├─────────────────────────────┼─────────────────────────┼────────────────┼─────────────────────────┤\n",
       "│    └ Dense_1_64_relu        │ (\u001b[38;5;45mNone\u001b[0m, \u001b[38;5;34m64\u001b[0m)              │          \u001b[38;5;34m4,160\u001b[0m │ -                       │\n",
       "│ (\u001b[38;5;33mDense\u001b[0m)                     │                         │                │                         │\n",
       "├─────────────────────────────┼─────────────────────────┼────────────────┼─────────────────────────┤\n",
       "│    └ BatchNorm_1            │ (\u001b[38;5;45mNone\u001b[0m, \u001b[38;5;34m64\u001b[0m)              │            \u001b[38;5;34m256\u001b[0m │ -                       │\n",
       "│ (\u001b[38;5;33mBatchNormalization\u001b[0m)        │                         │                │                         │\n",
       "├─────────────────────────────┼─────────────────────────┼────────────────┼─────────────────────────┤\n",
       "│    └ Output_Layer_sigmoid   │ (\u001b[38;5;45mNone\u001b[0m, \u001b[38;5;34m64\u001b[0m)              │          \u001b[38;5;34m4,160\u001b[0m │ -                       │\n",
       "│ (\u001b[38;5;33mDense\u001b[0m)                     │                         │                │                         │\n",
       "├─────────────────────────────┼─────────────────────────┼────────────────┼─────────────────────────┤\n",
       "│ simple_aggregation3_3       │ (\u001b[38;5;45mNone\u001b[0m, \u001b[38;5;34m80\u001b[0m)              │              \u001b[38;5;34m0\u001b[0m │ time_distributed_3[\u001b[38;5;34m0\u001b[0m][\u001b[38;5;34m…\u001b[0m │\n",
       "│ (\u001b[38;5;33mSimpleAggregation3\u001b[0m)        │                         │                │                         │\n",
       "├─────────────────────────────┼─────────────────────────┼────────────────┼─────────────────────────┤\n",
       "│ merge_branches              │ (\u001b[38;5;45mNone\u001b[0m, \u001b[38;5;34m144\u001b[0m)             │              \u001b[38;5;34m0\u001b[0m │ EventMLP[\u001b[38;5;34m0\u001b[0m][\u001b[38;5;34m0\u001b[0m],         │\n",
       "│ (\u001b[38;5;33mConcatenate\u001b[0m)               │                         │                │ simple_aggregation3_3[\u001b[38;5;34m…\u001b[0m │\n",
       "├─────────────────────────────┼─────────────────────────┼────────────────┼─────────────────────────┤\n",
       "│ batch_normalization_3       │ (\u001b[38;5;45mNone\u001b[0m, \u001b[38;5;34m144\u001b[0m)             │            \u001b[38;5;34m576\u001b[0m │ merge_branches[\u001b[38;5;34m0\u001b[0m][\u001b[38;5;34m0\u001b[0m]    │\n",
       "│ (\u001b[38;5;33mBatchNormalization\u001b[0m)        │                         │                │                         │\n",
       "├─────────────────────────────┼─────────────────────────┼────────────────┼─────────────────────────┤\n",
       "│ dense_6 (\u001b[38;5;33mDense\u001b[0m)             │ (\u001b[38;5;45mNone\u001b[0m, \u001b[38;5;34m64\u001b[0m)              │          \u001b[38;5;34m9,280\u001b[0m │ batch_normalization_3[\u001b[38;5;34m…\u001b[0m │\n",
       "├─────────────────────────────┼─────────────────────────┼────────────────┼─────────────────────────┤\n",
       "│ dropout_3 (\u001b[38;5;33mDropout\u001b[0m)         │ (\u001b[38;5;45mNone\u001b[0m, \u001b[38;5;34m64\u001b[0m)              │              \u001b[38;5;34m0\u001b[0m │ dense_6[\u001b[38;5;34m0\u001b[0m][\u001b[38;5;34m0\u001b[0m]           │\n",
       "├─────────────────────────────┼─────────────────────────┼────────────────┼─────────────────────────┤\n",
       "│ dense_7 (\u001b[38;5;33mDense\u001b[0m)             │ (\u001b[38;5;45mNone\u001b[0m, \u001b[38;5;34m64\u001b[0m)              │          \u001b[38;5;34m4,160\u001b[0m │ dropout_3[\u001b[38;5;34m0\u001b[0m][\u001b[38;5;34m0\u001b[0m]         │\n",
       "├─────────────────────────────┼─────────────────────────┼────────────────┼─────────────────────────┤\n",
       "│ classification (\u001b[38;5;33mDense\u001b[0m)      │ (\u001b[38;5;45mNone\u001b[0m, \u001b[38;5;34m1\u001b[0m)               │             \u001b[38;5;34m65\u001b[0m │ dense_7[\u001b[38;5;34m0\u001b[0m][\u001b[38;5;34m0\u001b[0m]           │\n",
       "└─────────────────────────────┴─────────────────────────┴────────────────┴─────────────────────────┘\n"
      ]
     },
     "metadata": {},
     "output_type": "display_data"
    },
    {
     "data": {
      "text/html": [
       "<pre style=\"white-space:pre;overflow-x:auto;line-height:normal;font-family:Menlo,'DejaVu Sans Mono',consolas,'Courier New',monospace\"><span style=\"font-weight: bold\"> Total params: </span><span style=\"color: #00af00; text-decoration-color: #00af00\">24,482</span> (95.63 KB)\n",
       "</pre>\n"
      ],
      "text/plain": [
       "\u001b[1m Total params: \u001b[0m\u001b[38;5;34m24,482\u001b[0m (95.63 KB)\n"
      ]
     },
     "metadata": {},
     "output_type": "display_data"
    },
    {
     "data": {
      "text/html": [
       "<pre style=\"white-space:pre;overflow-x:auto;line-height:normal;font-family:Menlo,'DejaVu Sans Mono',consolas,'Courier New',monospace\"><span style=\"font-weight: bold\"> Trainable params: </span><span style=\"color: #00af00; text-decoration-color: #00af00\">23,878</span> (93.27 KB)\n",
       "</pre>\n"
      ],
      "text/plain": [
       "\u001b[1m Trainable params: \u001b[0m\u001b[38;5;34m23,878\u001b[0m (93.27 KB)\n"
      ]
     },
     "metadata": {},
     "output_type": "display_data"
    },
    {
     "data": {
      "text/html": [
       "<pre style=\"white-space:pre;overflow-x:auto;line-height:normal;font-family:Menlo,'DejaVu Sans Mono',consolas,'Courier New',monospace\"><span style=\"font-weight: bold\"> Non-trainable params: </span><span style=\"color: #00af00; text-decoration-color: #00af00\">604</span> (2.36 KB)\n",
       "</pre>\n"
      ],
      "text/plain": [
       "\u001b[1m Non-trainable params: \u001b[0m\u001b[38;5;34m604\u001b[0m (2.36 KB)\n"
      ]
     },
     "metadata": {},
     "output_type": "display_data"
    }
   ],
   "source": []
  },
  {
   "cell_type": "code",
   "execution_count": null,
   "id": "9566745a",
   "metadata": {},
   "outputs": [
    {
     "name": "stdout",
     "output_type": "stream",
     "text": [
      "\u001b[31mSignature:\u001b[39m\n",
      "mf.builder.model.summary(\n",
      "    line_length=\u001b[38;5;28;01mNone\u001b[39;00m,\n",
      "    positions=\u001b[38;5;28;01mNone\u001b[39;00m,\n",
      "    print_fn=\u001b[38;5;28;01mNone\u001b[39;00m,\n",
      "    expand_nested=\u001b[38;5;28;01mFalse\u001b[39;00m,\n",
      "    show_trainable=\u001b[38;5;28;01mFalse\u001b[39;00m,\n",
      "    layer_range=\u001b[38;5;28;01mNone\u001b[39;00m,\n",
      ")\n",
      "\u001b[31mSource:\u001b[39m   \n",
      "    @traceback_utils.filter_traceback\n",
      "    \u001b[38;5;28;01mdef\u001b[39;00m summary(\n",
      "        self,\n",
      "        line_length=\u001b[38;5;28;01mNone\u001b[39;00m,\n",
      "        positions=\u001b[38;5;28;01mNone\u001b[39;00m,\n",
      "        print_fn=\u001b[38;5;28;01mNone\u001b[39;00m,\n",
      "        expand_nested=\u001b[38;5;28;01mFalse\u001b[39;00m,\n",
      "        show_trainable=\u001b[38;5;28;01mFalse\u001b[39;00m,\n",
      "        layer_range=\u001b[38;5;28;01mNone\u001b[39;00m,\n",
      "    ):\n",
      "        \u001b[33m\"\"\"Prints a string summary of the network.\u001b[39m\n",
      "\n",
      "\u001b[33m        Args:\u001b[39m\n",
      "\u001b[33m            line_length: Total length of printed lines\u001b[39m\n",
      "\u001b[33m                (e.g. set this to adapt the display to different\u001b[39m\n",
      "\u001b[33m                terminal window sizes).\u001b[39m\n",
      "\u001b[33m            positions: Relative or absolute positions of log elements\u001b[39m\n",
      "\u001b[33m                in each line. If not provided, becomes\u001b[39m\n",
      "\u001b[33m                `[0.3, 0.6, 0.70, 1.]`. Defaults to `None`.\u001b[39m\n",
      "\u001b[33m            print_fn: Print function to use. By default, prints to `stdout`.\u001b[39m\n",
      "\u001b[33m                If `stdout` doesn't work in your environment, change to `print`.\u001b[39m\n",
      "\u001b[33m                It will be called on each line of the summary.\u001b[39m\n",
      "\u001b[33m                You can set it to a custom function\u001b[39m\n",
      "\u001b[33m                in order to capture the string summary.\u001b[39m\n",
      "\u001b[33m            expand_nested: Whether to expand the nested models.\u001b[39m\n",
      "\u001b[33m                Defaults to `False`.\u001b[39m\n",
      "\u001b[33m            show_trainable: Whether to show if a layer is trainable.\u001b[39m\n",
      "\u001b[33m                Defaults to `False`.\u001b[39m\n",
      "\u001b[33m            layer_range: a list or tuple of 2 strings,\u001b[39m\n",
      "\u001b[33m                which is the starting layer name and ending layer name\u001b[39m\n",
      "\u001b[33m                (both inclusive) indicating the range of layers to be printed\u001b[39m\n",
      "\u001b[33m                in summary. It also accepts regex patterns instead of exact\u001b[39m\n",
      "\u001b[33m                names. In this case, the start predicate will be\u001b[39m\n",
      "\u001b[33m                the first element that matches `layer_range[0]`\u001b[39m\n",
      "\u001b[33m                and the end predicate will be the last element\u001b[39m\n",
      "\u001b[33m                that matches `layer_range[1]`.\u001b[39m\n",
      "\u001b[33m                By default `None` considers all layers of the model.\u001b[39m\n",
      "\n",
      "\u001b[33m        Raises:\u001b[39m\n",
      "\u001b[33m            ValueError: if `summary()` is called before the model is built.\u001b[39m\n",
      "\u001b[33m        \"\"\"\u001b[39m\n",
      "        summary_utils.print_summary(\n",
      "            self,\n",
      "            line_length=line_length,\n",
      "            positions=positions,\n",
      "            print_fn=print_fn,\n",
      "            expand_nested=expand_nested,\n",
      "            show_trainable=show_trainable,\n",
      "            layer_range=layer_range,\n",
      "        )\n",
      "\u001b[31mFile:\u001b[39m      ~/Work/tfxkit/.venv/lib/python3.12/site-packages/keras/src/models/model.py\n",
      "\u001b[31mType:\u001b[39m      method"
     ]
    }
   ],
   "source": [
    "mf.config.model\n",
    "\n",
    "mf.builder.model.summary(expand_nes)"
   ]
  },
  {
   "cell_type": "code",
   "execution_count": 4,
   "id": "52551d88",
   "metadata": {},
   "outputs": [
    {
     "name": "stderr",
     "output_type": "stream",
     "text": [
      "2025-10-19 22:29:14,725 - tfxkit.core.tuner - INFO - Tuning sequence completed.\n"
     ]
    },
    {
     "name": "stdout",
     "output_type": "stream",
     "text": [
      "Trial 20 Complete [00h 02m 38s]\n",
      "val_loss: 0.25886595249176025\n",
      "\n",
      "Best val_loss So Far: 0.2574854791164398\n",
      "Total elapsed time: 01h 06m 57s\n"
     ]
    }
   ],
   "source": [
    "mf.hyper_tune()"
   ]
  },
  {
   "cell_type": "code",
   "execution_count": 13,
   "id": "7225fba7",
   "metadata": {},
   "outputs": [
    {
     "name": "stderr",
     "output_type": "stream",
     "text": [
      "2025-10-20 10:34:38,443 - tfxkit.core.tuner - INFO - Running tuner step: generic_tuner\n",
      "2025-10-20 10:34:38,444 - tfxkit.core.tuner - INFO - Using tuner function: BayesianOptimization with params: {'alpha': 0.001, 'beta': 2.6, 'executions_per_trial': 2, 'max_trials': 20, 'objective': 'val_loss', 'overwrite': False, 'project_name': 'HPTunning', 'directory': 'save_dir_model/i3rej_hp/HPTunning'}\n",
      "2025-10-20 10:34:38,458 - tfxkit.core.tuner - INFO - Tuning sequence completed.\n"
     ]
    },
    {
     "name": "stdout",
     "output_type": "stream",
     "text": [
      "Importing function: tfxkit.core.tuner.generic_tuner\n",
      "Reloading Tuner from save_dir_model/i3rej_hp/HPTunning/HPTunning/tuner0.json\n"
     ]
    },
    {
     "data": {
      "text/plain": [
       "{'model.parameters.event_branch_layers': '[64, 64]',\n",
       " 'model.parameters.muon_branch_layers': '512',\n",
       " 'model.parameters.combination_layers': '[64, 64]',\n",
       " 'model.parameters.muon_embedding_dim': '16'}"
      ]
     },
     "execution_count": 13,
     "metadata": {},
     "output_type": "execute_result"
    }
   ],
   "source": [
    "seq = mf.hyper_tuner.run_sequence()\n",
    "seq[0][1].get_best_hyperparameters()[0].values"
   ]
  },
  {
   "cell_type": "code",
   "execution_count": null,
   "id": "c663803b",
   "metadata": {},
   "outputs": [],
   "source": []
  },
  {
   "cell_type": "code",
   "execution_count": 14,
   "id": "72c0fdaa",
   "metadata": {},
   "outputs": [
    {
     "name": "stdout",
     "output_type": "stream",
     "text": [
      "<class 'list'> [<class 'int'>, <class 'int'>] [12, 123]\n"
     ]
    }
   ],
   "source": [
    "import tfxkit.common.tf_utils as tf_utils\n",
    "\n",
    "layers_list = '[12,123]'\n",
    "\n",
    "layers_list = tf_utils.parse_layers_list(layers_list)\n",
    "layers_list = layers_list if isinstance(layers_list, list) else [layers_list]\n",
    "layers_list = [int(layer) for layer in layers_list]\n",
    "\n",
    "print(type(layers_list), [type(k) for k in layers_list], layers_list)\n"
   ]
  }
 ],
 "metadata": {
  "kernelspec": {
   "display_name": ".venv",
   "language": "python",
   "name": "python3"
  },
  "language_info": {
   "codemirror_mode": {
    "name": "ipython",
    "version": 3
   },
   "file_extension": ".py",
   "mimetype": "text/x-python",
   "name": "python",
   "nbconvert_exporter": "python",
   "pygments_lexer": "ipython3",
   "version": "3.12.8"
  }
 },
 "nbformat": 4,
 "nbformat_minor": 5
}
